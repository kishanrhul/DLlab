{
 "cells": [
  {
   "cell_type": "markdown",
   "metadata": {},
   "source": [
    "# Neural nets with Back-Propagation, this time with Pytorch"
   ]
  },
  {
   "cell_type": "markdown",
   "metadata": {},
   "source": [
    "This notebook contains a complete implementation of a neural network this time implemented with Pytorch. \n",
    "\n",
    "I advise you to work through the notebook first, and seek to understand the code.  After that, go back to the places where I suggest activities, and try to implement these. \n",
    "\n",
    "AFTER GOING THROUGH THIS NOTEBOOK you will be ready to go to the textbooks by Smola or Howard, and work through the slightly more complicated implementations there.  (We will be doing MNIST and MNIST Fashion next week...) \n",
    "\n",
    "### Aims of this session: \n",
    "\n",
    "*  To understand how to implement a simple neural network in Pytorch \n",
    "\n",
    "*  To explore the structure of the Pytorch model, and examine the weights and the initialisation\n",
    "\n",
    "*  To explore many more variations of the network using Pytorch to greatly speed things up\n"
   ]
  },
  {
   "cell_type": "code",
   "execution_count": 6,
   "metadata": {},
   "outputs": [],
   "source": [
    "import numpy as np\n",
    "import torch"
   ]
  },
  {
   "cell_type": "code",
   "execution_count": 7,
   "metadata": {},
   "outputs": [],
   "source": [
    "import matplotlib.pyplot as plt\n",
    "# the next instruction makes the plots appear within the notebook\n",
    "%matplotlib inline"
   ]
  },
  {
   "cell_type": "markdown",
   "metadata": {},
   "source": [
    "First we want some data.\n",
    "\n",
    "Our data will be points in the plane. We will generate random points within a square, like so:  "
   ]
  },
  {
   "cell_type": "code",
   "execution_count": 8,
   "metadata": {},
   "outputs": [],
   "source": [
    "X = 2 * np.random.random((100,2)) - 1\n",
    "\n",
    "# you can re-run with more or fewer than 100 training data points "
   ]
  },
  {
   "cell_type": "code",
   "execution_count": 9,
   "metadata": {},
   "outputs": [
    {
     "data": {
      "text/plain": [
       "[<matplotlib.lines.Line2D at 0x7fe2ba38fa30>]"
      ]
     },
     "execution_count": 9,
     "metadata": {},
     "output_type": "execute_result"
    },
    {
     "data": {
      "image/png": "[encoded data removed]",
      "text/plain": [
       "<Figure size 432x288 with 1 Axes>"
      ]
     },
     "metadata": {
      "needs_background": "light"
     },
     "output_type": "display_data"
    }
   ],
   "source": [
    "plt.plot(X[:,0],X[:,1],'.')"
   ]
  },
  {
   "cell_type": "code",
   "execution_count": 10,
   "metadata": {},
   "outputs": [],
   "source": [
    "def classifier2(X):\n",
    "    return (np.sum( X * X, axis=1) < 0.66 ).astype(float)"
   ]
  },
  {
   "cell_type": "code",
   "execution_count": 11,
   "metadata": {},
   "outputs": [],
   "source": [
    "def classifier3(X): # a 3x2 checkerboard pattern\n",
    "    return (( np.ceil((3/2)*(X[:,0]+1)).astype(int) + np.ceil( X[:,1]+1).astype(int) ) %2).astype(float)"
   ]
  },
  {
   "cell_type": "code",
   "execution_count": 12,
   "metadata": {},
   "outputs": [],
   "source": [
    "def classifier4(X): # a 4x4 checkerboard pattern -- you can use the same method to make up your own checkerboard patterns\n",
    "    return (np.sum( np.ceil( 2 * X).astype(int), axis=1 ) % 2).astype(float)"
   ]
  },
  {
   "cell_type": "code",
   "execution_count": 13,
   "metadata": {},
   "outputs": [],
   "source": [
    "Y = classifier3( X ) "
   ]
  },
  {
   "cell_type": "code",
   "execution_count": 14,
   "metadata": {},
   "outputs": [
    {
     "data": {
      "text/plain": [
       "[<matplotlib.lines.Line2D at 0x7fe2ba4b60a0>]"
      ]
     },
     "execution_count": 14,
     "metadata": {},
     "output_type": "execute_result"
    },
    {
     "data": {
      "image/png": "[encoded data removed]",
      "text/plain": [
       "<Figure size 432x288 with 1 Axes>"
      ]
     },
     "metadata": {
      "needs_background": "light"
     },
     "output_type": "display_data"
    }
   ],
   "source": [
    "plt.plot(X[Y==0.0,0],X[Y==0.0,1],'b.')\n",
    "plt.plot(X[Y==1.0,0],X[Y==1.0,1],'r.')"
   ]
  },
  {
   "cell_type": "code",
   "execution_count": 15,
   "metadata": {},
   "outputs": [
    {
     "data": {
      "text/plain": [
       "(100, 2)"
      ]
     },
     "execution_count": 15,
     "metadata": {},
     "output_type": "execute_result"
    }
   ],
   "source": [
    "X.shape"
   ]
  },
  {
   "cell_type": "code",
   "execution_count": 16,
   "metadata": {},
   "outputs": [
    {
     "data": {
      "text/plain": [
       "(100,)"
      ]
     },
     "execution_count": 16,
     "metadata": {},
     "output_type": "execute_result"
    }
   ],
   "source": [
    "Y.shape"
   ]
  },
  {
   "cell_type": "markdown",
   "metadata": {},
   "source": [
    "# Doing it with Pytorch"
   ]
  },
  {
   "cell_type": "markdown",
   "metadata": {},
   "source": [
    "Last week's program was a little painful: we had to construct the neural network and all of the gradients ourselves, and then check them. \n",
    "\n",
    "Is there an easier way? After all, many people have built neural networks before. \n"
   ]
  },
  {
   "cell_type": "code",
   "execution_count": 17,
   "metadata": {},
   "outputs": [],
   "source": [
    "import torch\n",
    "import torch.nn as nn  # various types of layers\n",
    "import torch.nn.functional as F  # activation functions, among other things"
   ]
  },
  {
   "cell_type": "code",
   "execution_count": 18,
   "metadata": {},
   "outputs": [],
   "source": [
    "class Net1( nn.Module ): \n",
    "    \n",
    "    def __init__(self):\n",
    "        super(Net1,self).__init__()\n",
    "        self.layer1 = nn.Linear(2,24)\n",
    "        self.layer2 = nn.Linear(24,1) # these automatically define the weights and biases for the layers\n",
    "        \n",
    "    def forward(self,x):\n",
    "        x = torch.relu(self.layer1(x))\n",
    "        x = torch.sigmoid(self.layer2(x))\n",
    "        return x "
   ]
  },
  {
   "cell_type": "code",
   "execution_count": 19,
   "metadata": {},
   "outputs": [
    {
     "name": "stdout",
     "output_type": "stream",
     "text": [
      "Net1(\n",
      "  (layer1): Linear(in_features=2, out_features=24, bias=True)\n",
      "  (layer2): Linear(in_features=24, out_features=1, bias=True)\n",
      ")\n"
     ]
    }
   ],
   "source": [
    "net1 = Net1()\n",
    "print( net1 )"
   ]
  },
  {
   "cell_type": "code",
   "execution_count": 20,
   "metadata": {},
   "outputs": [
    {
     "data": {
      "text/plain": [
       "<generator object Module.parameters at 0x7fe2ba54b7b0>"
      ]
     },
     "execution_count": 20,
     "metadata": {},
     "output_type": "execute_result"
    }
   ],
   "source": [
    "net1.parameters()"
   ]
  },
  {
   "cell_type": "code",
   "execution_count": 21,
   "metadata": {},
   "outputs": [
    {
     "data": {
      "text/plain": [
       "[Parameter containing:\n",
       " tensor([[ 1.6931e-01, -3.9108e-01],\n",
       "         [ 4.6293e-01,  1.1260e-01],\n",
       "         [-2.8062e-01,  2.1366e-01],\n",
       "         [-5.1178e-01, -1.5646e-01],\n",
       "         [ 3.5571e-01, -2.6873e-01],\n",
       "         [ 3.9370e-01,  2.8578e-01],\n",
       "         [-2.6924e-01,  1.0830e-01],\n",
       "         [ 6.1994e-01,  2.1227e-01],\n",
       "         [-6.8620e-01, -5.1481e-02],\n",
       "         [ 6.9649e-01, -6.5295e-01],\n",
       "         [ 4.0455e-01, -1.4764e-01],\n",
       "         [ 5.6534e-02, -9.4852e-02],\n",
       "         [-6.0110e-01, -2.1299e-01],\n",
       "         [ 9.9460e-03, -3.3474e-01],\n",
       "         [-6.2048e-03,  4.3960e-01],\n",
       "         [-4.3792e-01, -6.9083e-01],\n",
       "         [ 4.4462e-01, -5.0088e-01],\n",
       "         [-5.3105e-02,  8.7057e-02],\n",
       "         [-2.5443e-01,  8.5665e-02],\n",
       "         [ 5.4250e-01,  1.2459e-01],\n",
       "         [-2.3581e-01,  3.2321e-01],\n",
       "         [-3.7973e-01, -5.0933e-01],\n",
       "         [ 3.3484e-01,  2.4261e-01],\n",
       "         [ 1.2636e-04, -1.6596e-01]], requires_grad=True),\n",
       " Parameter containing:\n",
       " tensor([ 0.6242, -0.7019, -0.1147, -0.4118, -0.4616, -0.0523,  0.1306,  0.0079,\n",
       "         -0.3968,  0.4189, -0.1837,  0.6157, -0.3372,  0.6242, -0.2177,  0.1071,\n",
       "         -0.6469, -0.6718, -0.3733,  0.1304,  0.5224,  0.6891,  0.0662,  0.4177],\n",
       "        requires_grad=True),\n",
       " Parameter containing:\n",
       " tensor([[-0.1931,  0.0043, -0.1498,  0.1999,  0.1488, -0.1181,  0.1995,  0.1054,\n",
       "           0.0324, -0.0517,  0.0225, -0.1197, -0.0075,  0.1761,  0.0254, -0.1971,\n",
       "          -0.1005,  0.1328,  0.0163,  0.0471,  0.1015,  0.0684, -0.1538, -0.1744]],\n",
       "        requires_grad=True),\n",
       " Parameter containing:\n",
       " tensor([0.0895], requires_grad=True)]"
      ]
     },
     "execution_count": 21,
     "metadata": {},
     "output_type": "execute_result"
    }
   ],
   "source": [
    "list( net1.parameters() )"
   ]
  },
  {
   "cell_type": "markdown",
   "metadata": {},
   "source": [
    "That's it! That is our feedforward specification of our previous NN2layer model!\n",
    "All of the back-propagation will by compiled implicitly. "
   ]
  },
  {
   "cell_type": "code",
   "execution_count": 22,
   "metadata": {},
   "outputs": [
    {
     "data": {
      "text/plain": [
       "torch.float32"
      ]
     },
     "execution_count": 22,
     "metadata": {},
     "output_type": "execute_result"
    }
   ],
   "source": [
    "X_tensor = torch.FloatTensor(X) # X is a double in numpy, we need float32\n",
    "X_tensor.dtype"
   ]
  },
  {
   "cell_type": "code",
   "execution_count": 23,
   "metadata": {},
   "outputs": [
    {
     "data": {
      "text/plain": [
       "torch.Size([100, 2])"
      ]
     },
     "execution_count": 23,
     "metadata": {},
     "output_type": "execute_result"
    }
   ],
   "source": [
    "X_tensor.shape"
   ]
  },
  {
   "cell_type": "code",
   "execution_count": 24,
   "metadata": {},
   "outputs": [
    {
     "data": {
      "text/plain": [
       "torch.float32"
      ]
     },
     "execution_count": 24,
     "metadata": {},
     "output_type": "execute_result"
    }
   ],
   "source": [
    "Y_tensor = torch.FloatTensor(Y)\n",
    "Y_tensor.dtype"
   ]
  },
  {
   "cell_type": "code",
   "execution_count": 25,
   "metadata": {},
   "outputs": [
    {
     "data": {
      "text/plain": [
       "torch.Size([100])"
      ]
     },
     "execution_count": 25,
     "metadata": {},
     "output_type": "execute_result"
    }
   ],
   "source": [
    "Y_tensor.shape"
   ]
  },
  {
   "cell_type": "code",
   "execution_count": 35,
   "metadata": {},
   "outputs": [
    {
     "data": {
      "text/plain": [
       "torch.Size([100, 1])"
      ]
     },
     "execution_count": 35,
     "metadata": {},
     "output_type": "execute_result"
    }
   ],
   "source": [
    "net1.zero_grad() # zero any gradients before doing forward pass \n",
    "output = net1(X_tensor)\n",
    "output.shape"
   ]
  },
  {
   "cell_type": "code",
   "execution_count": 26,
   "metadata": {},
   "outputs": [
    {
     "data": {
      "text/plain": [
       "torch.Size([100])"
      ]
     },
     "execution_count": 26,
     "metadata": {},
     "output_type": "execute_result"
    }
   ],
   "source": [
    "Y_tensor.shape"
   ]
  },
  {
   "cell_type": "markdown",
   "metadata": {},
   "source": [
    "The target values (Y) need to be the same shape as the output before we compute the average loss (this is why one needs to be careful about always knowing the shape of one's tensors). Let's reshape Y to be like the output, therefore. "
   ]
  },
  {
   "cell_type": "code",
   "execution_count": 27,
   "metadata": {},
   "outputs": [
    {
     "data": {
      "text/plain": [
       "torch.Size([100, 1])"
      ]
     },
     "execution_count": 27,
     "metadata": {},
     "output_type": "execute_result"
    }
   ],
   "source": [
    "Y_like_output = Y_tensor.reshape([100,1])\n",
    "Y_like_output.shape"
   ]
  },
  {
   "cell_type": "code",
   "execution_count": 28,
   "metadata": {},
   "outputs": [],
   "source": [
    "loss = nn.BCELoss()"
   ]
  },
  {
   "cell_type": "code",
   "execution_count": 36,
   "metadata": {},
   "outputs": [
    {
     "data": {
      "text/plain": [
       "tensor(0.6512, grad_fn=<BinaryCrossEntropyBackward>)"
      ]
     },
     "execution_count": 36,
     "metadata": {},
     "output_type": "execute_result"
    }
   ],
   "source": [
    "# actually computing the loss of our first output against our 'true' classes\n",
    "\n",
    "average_loss = loss( output, Y_like_output)\n",
    "average_loss "
   ]
  },
  {
   "cell_type": "code",
   "execution_count": 32,
   "metadata": {},
   "outputs": [],
   "source": [
    "average_loss.backward()"
   ]
  },
  {
   "cell_type": "markdown",
   "metadata": {},
   "source": [
    "Now what do we do with the gradients?  Instead of writing our own code to update the weights by gradient descent, we will use an Optimizer object, one of the ones provided by pytorch. RMSProp is a nice, stable choice.  \n",
    "\n",
    "This will take the parameters, with their attached gradients which have been calculated after `average_loss.backward()`, and then update the weights (sensibly) in the direction of the gradient. \n",
    "\n",
    "Let us first create the optimizer object."
   ]
  },
  {
   "cell_type": "code",
   "execution_count": 33,
   "metadata": {},
   "outputs": [],
   "source": [
    "optimizer = torch.optim.RMSprop( net1.parameters() )"
   ]
  },
  {
   "cell_type": "code",
   "execution_count": 34,
   "metadata": {},
   "outputs": [],
   "source": [
    "# now actually use the optimizer to update the weights\n",
    "optimizer.step()\n",
    "# that's it - the weights have been adjusted! We can train again... "
   ]
  },
  {
   "cell_type": "markdown",
   "metadata": {},
   "source": [
    "\n",
    "Well, we have just written our neural net, cell by cell. Let's gather all the code together, into two phases: setup and training. "
   ]
  },
  {
   "cell_type": "markdown",
   "metadata": {},
   "source": [
    "### Setting up the net"
   ]
  },
  {
   "cell_type": "code",
   "execution_count": 37,
   "metadata": {},
   "outputs": [],
   "source": [
    "# this defines our network as a subclass of nn.Module \n",
    "\n",
    "class Net1( nn.Module ): \n",
    "    \n",
    "    def __init__(self):\n",
    "        super(Net1,self).__init__()\n",
    "        self.layer1 = nn.Linear(2,24)\n",
    "        self.layer2 = nn.Linear(24,1) # these automatically define the weights and biases for the layers\n",
    "        \n",
    "    def forward(self,x):\n",
    "        x = torch.relu(self.layer1(x))\n",
    "        x = torch.sigmoid(self.layer2(x))\n",
    "        return x "
   ]
  },
  {
   "cell_type": "code",
   "execution_count": 38,
   "metadata": {},
   "outputs": [
    {
     "name": "stdout",
     "output_type": "stream",
     "text": [
      "Net1(\n",
      "  (layer1): Linear(in_features=2, out_features=24, bias=True)\n",
      "  (layer2): Linear(in_features=24, out_features=1, bias=True)\n",
      ")\n"
     ]
    }
   ],
   "source": [
    "# this creates a new instance of our neural network class\n",
    "# it is initialised with random weights, and it needs training\n",
    "\n",
    "net1 = Net1()\n",
    "print( net1 )"
   ]
  },
  {
   "cell_type": "code",
   "execution_count": 39,
   "metadata": {},
   "outputs": [],
   "source": [
    "# we also need to specify the loss function we will use \n",
    "# In this case, binary cross-entropy (suitable for 2 class classifaction using\n",
    "# the output of a sigmoid layer). \n",
    "\n",
    "loss_function = nn.BCELoss()"
   ]
  },
  {
   "cell_type": "code",
   "execution_count": 40,
   "metadata": {},
   "outputs": [],
   "source": [
    "# In order to train it, we construct an instance of an optimizer class \n",
    "# which contains our network's parameters (given as a generator)\n",
    "\n",
    "optimizer = torch.optim.RMSprop( net1.parameters() )"
   ]
  },
  {
   "cell_type": "markdown",
   "metadata": {},
   "source": [
    "### Training the net"
   ]
  },
  {
   "cell_type": "markdown",
   "metadata": {},
   "source": [
    " Our training data is `X_tensor` (the inputs) and `Y_like_outpu`t ( the target classifications that we want our network to achieve).\n",
    " \n",
    " We reshaped `Y_like_output` to have the same shape as the output of our network (a little trial and error there...) "
   ]
  },
  {
   "cell_type": "code",
   "execution_count": 54,
   "metadata": {},
   "outputs": [],
   "source": [
    "n_epochs = 200"
   ]
  },
  {
   "cell_type": "code",
   "execution_count": 63,
   "metadata": {},
   "outputs": [
    {
     "name": "stdout",
     "output_type": "stream",
     "text": [
      "0 0.03407314792275429\n",
      "1 0.034002635627985\n",
      "2 0.033888429403305054\n",
      "3 0.03378649428486824\n",
      "4 0.033754486590623856\n",
      "5 0.033799171447753906\n",
      "6 0.03368813544511795\n",
      "7 0.03358224034309387\n",
      "8 0.03353096917271614\n",
      "9 0.0334627740085125\n",
      "10 0.033359769731760025\n",
      "11 0.03328651189804077\n",
      "12 0.033226415514945984\n",
      "13 0.03316063433885574\n",
      "14 0.03305022791028023\n",
      "15 0.03297819569706917\n",
      "16 0.0329103097319603\n",
      "17 0.03284819796681404\n",
      "18 0.03274853900074959\n",
      "19 0.03274241462349892\n",
      "20 0.03266157582402229\n",
      "21 0.03259747475385666\n",
      "22 0.03247717767953873\n",
      "23 0.03235878050327301\n",
      "24 0.03225535526871681\n",
      "25 0.032232969999313354\n",
      "26 0.03214028477668762\n",
      "27 0.03202693164348602\n",
      "28 0.031918980181217194\n",
      "29 0.03190883994102478\n",
      "30 0.031822122633457184\n",
      "31 0.03171589970588684\n",
      "32 0.031617771834135056\n",
      "33 0.03168212249875069\n",
      "34 0.031589996069669724\n",
      "35 0.03148369863629341\n",
      "36 0.031371425837278366\n",
      "37 0.03127279877662659\n",
      "38 0.03123578615486622\n",
      "39 0.031210189685225487\n",
      "40 0.031100722029805183\n",
      "41 0.031006036326289177\n",
      "42 0.03096533752977848\n",
      "43 0.03095090202987194\n",
      "44 0.030843768268823624\n",
      "45 0.030750656500458717\n",
      "46 0.030714549124240875\n",
      "47 0.030775103718042374\n",
      "48 0.030666932463645935\n",
      "49 0.03056945838034153\n",
      "50 0.03049308992922306\n",
      "51 0.03044576197862625\n",
      "52 0.03037414327263832\n",
      "53 0.03030475787818432\n",
      "54 0.030214784666895866\n",
      "55 0.030176794156432152\n",
      "56 0.030102670192718506\n",
      "57 0.030036304146051407\n",
      "58 0.029943713918328285\n",
      "59 0.029904186725616455\n",
      "60 0.029816942289471626\n",
      "61 0.029862117022275925\n",
      "62 0.029786908999085426\n",
      "63 0.02973838336765766\n",
      "64 0.029632236808538437\n",
      "65 0.02952377311885357\n",
      "66 0.029425332322716713\n",
      "67 0.029374003410339355\n",
      "68 0.02929520793259144\n",
      "69 0.029225431382656097\n",
      "70 0.029125332832336426\n",
      "71 0.029076382517814636\n",
      "72 0.028970589861273766\n",
      "73 0.02887125313282013\n",
      "74 0.02880854904651642\n",
      "75 0.02884538657963276\n",
      "76 0.028783034533262253\n",
      "77 0.028712306171655655\n",
      "78 0.02863301709294319\n",
      "79 0.028534872457385063\n",
      "80 0.028471434488892555\n",
      "81 0.028416095301508904\n",
      "82 0.028347451239824295\n",
      "83 0.028287606313824654\n",
      "84 0.028226351365447044\n",
      "85 0.02817818894982338\n",
      "86 0.028082216158509254\n",
      "87 0.02803051471710205\n",
      "88 0.027988376095891\n",
      "89 0.027953391894698143\n",
      "90 0.027857905253767967\n",
      "91 0.027774207293987274\n",
      "92 0.02772989496588707\n",
      "93 0.027816079556941986\n",
      "94 0.027745092287659645\n",
      "95 0.027658140286803246\n",
      "96 0.02759397216141224\n",
      "97 0.027554478496313095\n",
      "98 0.027459848672151566\n",
      "99 0.027373120188713074\n",
      "100 0.0273288581520319\n",
      "101 0.02732367068529129\n",
      "102 0.027230696752667427\n",
      "103 0.027142297476530075\n",
      "104 0.027072735130786896\n",
      "105 0.027067454531788826\n",
      "106 0.0269970390945673\n",
      "107 0.02690776064991951\n",
      "108 0.026840660721063614\n",
      "109 0.026944119483232498\n",
      "110 0.02684614434838295\n",
      "111 0.02674933150410652\n",
      "112 0.02666851505637169\n",
      "113 0.026623494923114777\n",
      "114 0.026547055691480637\n",
      "115 0.02644958719611168\n",
      "116 0.026362638920545578\n",
      "117 0.026356639340519905\n",
      "118 0.02626199647784233\n",
      "119 0.02616790309548378\n",
      "120 0.0260846558958292\n",
      "121 0.026047639548778534\n",
      "122 0.025987928733229637\n",
      "123 0.02603037841618061\n",
      "124 0.025938337668776512\n",
      "125 0.025903696194291115\n",
      "126 0.025811204686760902\n",
      "127 0.025722172111272812\n",
      "128 0.025655843317508698\n",
      "129 0.025629915297031403\n",
      "130 0.02554957941174507\n",
      "131 0.025492103770375252\n",
      "132 0.025411956012248993\n",
      "133 0.025390110909938812\n",
      "134 0.025332264602184296\n",
      "135 0.025282058864831924\n",
      "136 0.025201326236128807\n",
      "137 0.025127127766609192\n",
      "138 0.02509603463113308\n",
      "139 0.025084983557462692\n",
      "140 0.02502911351621151\n",
      "141 0.024958288297057152\n",
      "142 0.024925904348492622\n",
      "143 0.025030696764588356\n",
      "144 0.024948233738541603\n",
      "145 0.024873387068510056\n",
      "146 0.024832138791680336\n",
      "147 0.0247971061617136\n",
      "148 0.02473733201622963\n",
      "149 0.024657992646098137\n",
      "150 0.02460712194442749\n",
      "151 0.024603743106126785\n",
      "152 0.02451718971133232\n",
      "153 0.02443370781838894\n",
      "154 0.024373607710003853\n",
      "155 0.024369575083255768\n",
      "156 0.024304186925292015\n",
      "157 0.024218067526817322\n",
      "158 0.024156900122761726\n",
      "159 0.02422846294939518\n",
      "160 0.024133753031492233\n",
      "161 0.024040689691901207\n",
      "162 0.023972824215888977\n",
      "163 0.023958591744303703\n",
      "164 0.02386459894478321\n",
      "165 0.02377137914299965\n",
      "166 0.023700041696429253\n",
      "167 0.023654894903302193\n",
      "168 0.02359192445874214\n",
      "169 0.023527717217803\n",
      "170 0.023456428200006485\n",
      "171 0.023420117795467377\n",
      "172 0.023341670632362366\n",
      "173 0.02328590676188469\n",
      "174 0.023219024762511253\n",
      "175 0.023190727457404137\n",
      "176 0.023118197917938232\n",
      "177 0.02307037077844143\n",
      "178 0.02300911955535412\n",
      "179 0.022988829761743546\n",
      "180 0.022930705919861794\n",
      "181 0.022981569170951843\n",
      "182 0.02293960005044937\n",
      "183 0.022924184799194336\n",
      "184 0.02285648323595524\n",
      "185 0.02279028668999672\n",
      "186 0.022735508158802986\n",
      "187 0.022723199799656868\n",
      "188 0.022660870105028152\n",
      "189 0.022622236981987953\n",
      "190 0.022585297003388405\n",
      "191 0.022576799616217613\n",
      "192 0.02251294068992138\n",
      "193 0.02247457578778267\n",
      "194 0.022414181381464005\n",
      "195 0.022405575960874557\n",
      "196 0.02234179712831974\n",
      "197 0.022408699616789818\n",
      "198 0.02233952283859253\n",
      "199 0.022323131561279297\n"
     ]
    }
   ],
   "source": [
    "for i in range(0,n_epochs): \n",
    "\n",
    "    net1.zero_grad() # zero all gradients in the network\n",
    "    # before doing back-propagation\n",
    "    # It is important to remember to zero the gradients, \n",
    "    # otherwise the gradients will \n",
    "    # just accumulate. \n",
    "    \n",
    "    output = net1( X_tensor ) # forward pass\n",
    "    \n",
    "    average_loss = loss_function( output, Y_like_output)\n",
    "    \n",
    "    print(i, average_loss.item()) # important to see what is happening\n",
    "    # average_loss is a zero-dimensional tensor; to convert it to a number \n",
    "    # we cannot index, but instead we do average_loss.item() \n",
    "    \n",
    "    average_loss.backward() # this computes all our gradients :) \n",
    "    \n",
    "    optimizer.step() # this updates the weights :) "
   ]
  },
  {
   "cell_type": "code",
   "execution_count": 44,
   "metadata": {},
   "outputs": [],
   "source": [
    "def plot_nn_predictions( net1 ):\n",
    "    x_values = np.linspace(-1,1,200)\n",
    "    y_values = np.linspace(-1,1,200)\n",
    "    \n",
    "# challenge: this function is rather slow because the  model is being used to make one prediction at a time. \n",
    "# This incurs quite a large overhead: it is more efficient to make many predictions at once. Can you modify this \n",
    "# function to do this? \n",
    "\n",
    "# Now, can you rewrite the function so that you put in the whole grid of points as an input array to kerasmodel.predict(), \n",
    "# so that you only make one call net1 ? (This is an exercise in figuring out \n",
    "# the shapes of your tensors, and converting a torch tensor to a numpy array\n",
    "# that matplotlib can use)\n",
    "\n",
    "    J_grid = np.zeros([x_values.size,y_values.size])\n",
    "    \n",
    "    \n",
    "    # We do something interesting here.  \n",
    "    # We are not By calling torch.no_grad() \n",
    "    # we prevent pytorch from \n",
    "    with torch.no_grad(): \n",
    "        for x_index in range(0, x_values.size):\n",
    "            for y_index in range(0, y_values.size):\n",
    "                predicted_y_tensor =net1(torch.FloatTensor([x_values[x_index], y_values[y_index]]))\n",
    "                J_grid[x_index,y_index] = predicted_y_tensor.item()\n",
    "        \n",
    "    plt.imshow(J_grid.transpose(), origin='lower',extent=[-1,1,-1,1])\n",
    "    plt.colorbar()                                               "
   ]
  },
  {
   "cell_type": "code",
   "execution_count": 56,
   "metadata": {},
   "outputs": [
    {
     "data": {
      "text/plain": [
       "[<matplotlib.lines.Line2D at 0x7fe2b9bf1430>]"
      ]
     },
     "execution_count": 56,
     "metadata": {},
     "output_type": "execute_result"
    },
    {
     "data": {
      "image/png": "[encoded data removed]",
      "text/plain": [
       "<Figure size 432x288 with 2 Axes>"
      ]
     },
     "metadata": {
      "needs_background": "light"
     },
     "output_type": "display_data"
    }
   ],
   "source": [
    "plot_nn_predictions(net1)\n",
    "\n",
    "plt.plot(X[Y==0.0,0],X[Y==0.0,1],'b.')\n",
    "plt.plot(X[Y==1.0,0],X[Y==1.0,1],'r.')"
   ]
  },
  {
   "cell_type": "code",
   "execution_count": 64,
   "metadata": {},
   "outputs": [
    {
     "data": {
      "text/plain": [
       "[<matplotlib.lines.Line2D at 0x7fe2b9c68ac0>]"
      ]
     },
     "execution_count": 64,
     "metadata": {},
     "output_type": "execute_result"
    },
    {
     "data": {
      "image/png": "[encoded data removed]",
      "text/plain": [
       "<Figure size 432x288 with 2 Axes>"
      ]
     },
     "metadata": {
      "needs_background": "light"
     },
     "output_type": "display_data"
    }
   ],
   "source": [
    "plot_nn_predictions(net1)\n",
    "\n",
    "plt.plot(X[Y==0.0,0],X[Y==0.0,1],'b.')\n",
    "plt.plot(X[Y==1.0,0],X[Y==1.0,1],'r.')"
   ]
  },
  {
   "cell_type": "markdown",
   "metadata": {},
   "source": [
    "Exercise: do a 3D plot? That would be fun..."
   ]
  },
  {
   "cell_type": "markdown",
   "metadata": {},
   "source": [
    "### How can we examine the weights and the gradients? \n",
    "\n",
    "Simple !  We can extract them from the neural network. \n",
    "\n",
    "Our network `net1` has two inputs, 24 neurons in the first layer, and 1 neuron in the output layer. \n",
    "\n",
    "The first layer is called `layer1` and the second `layer2` (go back and look at the definition of the class `Net1`)"
   ]
  },
  {
   "cell_type": "code",
   "execution_count": 47,
   "metadata": {},
   "outputs": [
    {
     "data": {
      "text/plain": [
       "Linear(in_features=2, out_features=24, bias=True)"
      ]
     },
     "execution_count": 47,
     "metadata": {},
     "output_type": "execute_result"
    }
   ],
   "source": [
    "net1.layer1"
   ]
  },
  {
   "cell_type": "code",
   "execution_count": 48,
   "metadata": {},
   "outputs": [
    {
     "data": {
      "text/plain": [
       "Parameter containing:\n",
       "tensor([[-1.0633, -0.8234],\n",
       "        [-1.0744,  0.7515],\n",
       "        [-0.0654, -0.5053],\n",
       "        [ 0.4771, -0.0211],\n",
       "        [ 1.2575, -0.9145],\n",
       "        [-0.0964,  0.0101],\n",
       "        [-1.0205, -0.7807],\n",
       "        [ 0.2900,  0.0450],\n",
       "        [-0.7986, -0.5733],\n",
       "        [-0.1971, -0.1204],\n",
       "        [ 0.7922, -0.5485],\n",
       "        [-0.0018, -0.3864],\n",
       "        [ 0.0338,  0.3670],\n",
       "        [-1.1374, -0.8400],\n",
       "        [ 1.0341, -0.6428],\n",
       "        [ 1.5716,  0.6086],\n",
       "        [-0.0600, -0.1094],\n",
       "        [-1.0104, -0.4301],\n",
       "        [-0.9182,  0.6539],\n",
       "        [ 0.0064,  0.7138],\n",
       "        [ 0.3537, -0.3503],\n",
       "        [-0.1178, -0.4892],\n",
       "        [ 0.0963,  0.0282],\n",
       "        [-1.0405,  0.7251]], requires_grad=True)"
      ]
     },
     "execution_count": 48,
     "metadata": {},
     "output_type": "execute_result"
    }
   ],
   "source": [
    "net1.layer1.weight"
   ]
  },
  {
   "cell_type": "code",
   "execution_count": 57,
   "metadata": {},
   "outputs": [
    {
     "data": {
      "text/plain": [
       "array([[-2.3307955 , -1.4426625 ],\n",
       "       [-2.681495  ,  1.5280391 ],\n",
       "       [ 0.3706603 ,  0.4410158 ],\n",
       "       [ 0.47714883, -0.02109499],\n",
       "       [ 3.7604458 , -2.4501932 ],\n",
       "       [-0.09643006,  0.01010925],\n",
       "       [-2.2593226 , -1.4041182 ],\n",
       "       [ 0.48768443,  0.5223193 ],\n",
       "       [-2.1940327 , -1.3328253 ],\n",
       "       [ 0.18904202,  0.8806449 ],\n",
       "       [ 2.1572564 , -1.1944857 ],\n",
       "       [ 0.01316433, -1.3804601 ],\n",
       "       [-2.5511408 ,  1.7524168 ],\n",
       "       [-2.5254562 , -1.5593956 ],\n",
       "       [ 2.3287785 , -1.2518388 ],\n",
       "       [ 3.651334  ,  2.4233255 ],\n",
       "       [ 0.19891833,  0.3705906 ],\n",
       "       [-3.5543375 , -2.3156724 ],\n",
       "       [-2.3218098 ,  1.3297921 ],\n",
       "       [ 0.0742573 ,  0.945084  ],\n",
       "       [ 0.51555693,  0.6027054 ],\n",
       "       [ 0.28316975,  0.01114056],\n",
       "       [ 1.4541014 ,  0.91060925],\n",
       "       [-2.6887388 ,  1.5286012 ]], dtype=float32)"
      ]
     },
     "execution_count": 57,
     "metadata": {},
     "output_type": "execute_result"
    }
   ],
   "source": [
    "# a small complication here. We want to convert the weight tensor to \n",
    "# a numpy array, but it has gradients attached. If requires_gradient is True, \n",
    "# we must use .detach().numpy() instead of just .numpy()\n",
    "\n",
    "layer1_weights = net1.layer1.weight.detach().numpy()\n",
    "layer1_weights"
   ]
  },
  {
   "cell_type": "code",
   "execution_count": 58,
   "metadata": {},
   "outputs": [
    {
     "data": {
      "text/plain": [
       "array([[ 4.76517249e-03,  1.65790797e-03],\n",
       "       [-2.13603955e-03,  2.85343546e-03],\n",
       "       [-1.23301521e-04, -8.91704753e-04],\n",
       "       [ 0.00000000e+00,  0.00000000e+00],\n",
       "       [-1.08678862e-02,  4.39791614e-03],\n",
       "       [ 0.00000000e+00,  0.00000000e+00],\n",
       "       [ 4.82531823e-03,  1.67883351e-03],\n",
       "       [-1.05194718e-04, -4.76935005e-04],\n",
       "       [ 4.71819751e-03,  1.64156430e-03],\n",
       "       [-1.58310751e-04, -1.14488578e-03],\n",
       "       [ 1.63926813e-03,  8.68902367e-04],\n",
       "       [-1.58327748e-06,  5.67832903e-05],\n",
       "       [ 3.23896017e-03, -3.56700644e-03],\n",
       "       [ 4.89161909e-03,  1.70190143e-03],\n",
       "       [ 1.59452518e-03,  8.45186180e-04],\n",
       "       [ 2.25523696e-03,  1.87942642e-03],\n",
       "       [-1.09807006e-04, -7.94110238e-04],\n",
       "       [-1.13171525e-03,  2.58633448e-03],\n",
       "       [-2.40649469e-03,  3.21472064e-03],\n",
       "       [ 6.59081270e-05,  8.94944300e-04],\n",
       "       [-1.20983284e-04, -8.74937105e-04],\n",
       "       [-7.56196096e-05, -5.46871976e-04],\n",
       "       [-1.32125826e-03, -1.07844395e-03],\n",
       "       [-2.05772044e-03,  2.74881115e-03]], dtype=float32)"
      ]
     },
     "execution_count": 58,
     "metadata": {},
     "output_type": "execute_result"
    }
   ],
   "source": [
    "# we don't need to use detach for the gradients because the gradients are a \n",
    "# pure tensor. \n",
    "\n",
    "layer1_gradients = net1.layer1.weight.grad.numpy()\n",
    "layer1_gradients"
   ]
  },
  {
   "cell_type": "code",
   "execution_count": 51,
   "metadata": {},
   "outputs": [
    {
     "data": {
      "text/plain": [
       "(array([12.,  7., 12.,  7.,  7.,  1.,  2.]),\n",
       " array([-1.1374218 , -0.7504142 , -0.36340657,  0.02360109,  0.41060874,\n",
       "         0.79761636,  1.1846241 ,  1.5716317 ], dtype=float32),\n",
       " <BarContainer object of 7 artists>)"
      ]
     },
     "execution_count": 51,
     "metadata": {},
     "output_type": "execute_result"
    },
    {
     "data": {
      "image/png": "[encoded data removed]",
      "text/plain": [
       "<Figure size 432x288 with 1 Axes>"
      ]
     },
     "metadata": {
      "needs_background": "light"
     },
     "output_type": "display_data"
    }
   ],
   "source": [
    "n_bins = 7\n",
    "plt.hist( layer1_weights.reshape(-1), n_bins )"
   ]
  },
  {
   "cell_type": "code",
   "execution_count": 59,
   "metadata": {},
   "outputs": [
    {
     "data": {
      "text/plain": [
       "(array([ 5.,  7.,  6., 17.,  7.,  4.,  2.]),\n",
       " array([-3.5543375 , -2.5093684 , -1.4643995 , -0.41943035,  0.6255387 ,\n",
       "         1.6705078 ,  2.7154768 ,  3.7604458 ], dtype=float32),\n",
       " <BarContainer object of 7 artists>)"
      ]
     },
     "execution_count": 59,
     "metadata": {},
     "output_type": "execute_result"
    },
    {
     "data": {
      "image/png": "[encoded data removed]",
      "text/plain": [
       "<Figure size 432x288 with 1 Axes>"
      ]
     },
     "metadata": {
      "needs_background": "light"
     },
     "output_type": "display_data"
    }
   ],
   "source": [
    "n_bins = 7\n",
    "plt.hist( layer1_weights.reshape(-1), n_bins )"
   ]
  },
  {
   "cell_type": "code",
   "execution_count": 52,
   "metadata": {},
   "outputs": [
    {
     "data": {
      "text/plain": [
       "(array([ 1.,  0.,  1., 30.,  7.,  5.,  4.]),\n",
       " array([-0.01256811, -0.00911392, -0.00565973, -0.00220554,  0.00124865,\n",
       "         0.00470284,  0.00815703,  0.01161122], dtype=float32),\n",
       " <BarContainer object of 7 artists>)"
      ]
     },
     "execution_count": 52,
     "metadata": {},
     "output_type": "execute_result"
    },
    {
     "data": {
      "image/png": "[encoded data removed]",
      "text/plain": [
       "<Figure size 432x288 with 1 Axes>"
      ]
     },
     "metadata": {
      "needs_background": "light"
     },
     "output_type": "display_data"
    }
   ],
   "source": [
    "n_bins = 7 \n",
    "plt.hist( layer1_gradients.reshape(-1), n_bins )"
   ]
  },
  {
   "cell_type": "code",
   "execution_count": 60,
   "metadata": {},
   "outputs": [
    {
     "data": {
      "text/plain": [
       "(array([ 1.,  0.,  0.,  4., 22., 12.,  9.]),\n",
       " array([-0.01086789, -0.00861653, -0.00636517, -0.00411381, -0.00186245,\n",
       "         0.0003889 ,  0.00264026,  0.00489162], dtype=float32),\n",
       " <BarContainer object of 7 artists>)"
      ]
     },
     "execution_count": 60,
     "metadata": {},
     "output_type": "execute_result"
    },
    {
     "data": {
      "image/png": "[encoded data removed]",
      "text/plain": [
       "<Figure size 432x288 with 1 Axes>"
      ]
     },
     "metadata": {
      "needs_background": "light"
     },
     "output_type": "display_data"
    }
   ],
   "source": [
    "n_bins = 7 # after 220 more epochs of training\n",
    "plt.hist( layer1_gradients.reshape(-1), n_bins )"
   ]
  },
  {
   "cell_type": "markdown",
   "metadata": {},
   "source": [
    "# More exercises: vary the network and explore the effects"
   ]
  },
  {
   "cell_type": "markdown",
   "metadata": {},
   "source": [
    "Your task in this lab is to explore as many variations as possible using Keras. \n",
    "\n",
    "Try adding more layers, with larger numbers of neurons. What happens? \n",
    "\n",
    "Try using different types of activation function. What is the effect of, say, tanh or sigmoid as opposed to relu?  \n",
    "\n",
    "Try using more data, with more complicated definitions of y (in particular, try using classifier4, or make up your own)\n",
    "\n",
    "Plot the statistics on training and validation loss and accuracy, obtained from history.history\n",
    "\n",
    "Compare the rates of learning of different network architectures. "
   ]
  },
  {
   "cell_type": "code",
   "execution_count": null,
   "metadata": {},
   "outputs": [],
   "source": []
  }
 ],
 "metadata": {
  "kernelspec": {
   "display_name": "Python 3",
   "language": "python",
   "name": "python3"
  },
  "language_info": {
   "codemirror_mode": {
    "name": "ipython",
    "version": 3
   },
   "file_extension": ".py",
   "mimetype": "text/x-python",
   "name": "python",
   "nbconvert_exporter": "python",
   "pygments_lexer": "ipython3",
   "version": "3.8.3"
  },
  "latex_envs": {
   "LaTeX_envs_menu_present": true,
   "autoclose": false,
   "autocomplete": true,
   "bibliofile": "biblio.bib",
   "cite_by": "apalike",
   "current_citInitial": 1,
   "eqLabelWithNumbers": true,
   "eqNumInitial": 1,
   "hotkeys": {
    "equation": "Ctrl-E",
    "itemize": "Ctrl-I"
   },
   "labels_anchors": false,
   "latex_user_defs": false,
   "report_style_numbering": false,
   "user_envs_cfg": false
  }
 },
 "nbformat": 4,
 "nbformat_minor": 4
}
