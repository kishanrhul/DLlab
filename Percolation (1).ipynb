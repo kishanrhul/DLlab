{
 "cells": [
  {
   "cell_type": "markdown",
   "metadata": {},
   "source": [
    "# Comparing architectures"
   ]
  },
  {
   "cell_type": "markdown",
   "metadata": {},
   "source": [
    "The aim of this practical is to use a new synthetic dataset: percolations through a rectangle, explained below. \n",
    "\n",
    "The advantage of using this dataset is that the inputs are small, so that the neural nets can be small but deep, and it is possible for you to compare many different net designs quickly, training only with a cpu. \n",
    "\n",
    "But the concept of percolation is 'deep': there is no simple logical description of when there is a percolating path across a rectangle. Logistic regression fails completely.  There are many paths from one side of the square to the other, and the neural network needs to be able to recognise all of them. The function required to do this is highly non-linear, and there are dependencies between more than 8 values in a 8x8 square. \n",
    "\n",
    "Ironically, there is a simple iterative Python function that easily computes whether a matrix percolates, using depth first search. This is very quick, uses little computation, and it is 100% accurate.  \n",
    "\n",
    "\n",
    "Percolation is not an easy property for neural nets to recognise. Only one person has yet managed to design a neural net that gets 100% accuracy !! Even after 30,000 training examples...   I challenge you to try ! "
   ]
  },
  {
   "cell_type": "markdown",
   "metadata": {},
   "source": [
    "# Percolation data"
   ]
  },
  {
   "cell_type": "markdown",
   "metadata": {},
   "source": [
    "To define some image data, we will consider small images, initially of size 8x8 in black and white (or 0 and 1). \n",
    "\n",
    "The first concept that we will try to teach a NN is whether there is a continuous path of \"white\" pixels between the two sides of the image.\n",
    "\n",
    "The function `percolate` returns True is there is a continuous path between the left and right sides of a binary image. (Aspects of python that are used are sets, a while loop, and break. )  "
   ]
  },
  {
   "cell_type": "code",
   "execution_count": 2,
   "metadata": {},
   "outputs": [],
   "source": [
    "import numpy as np\n",
    "\n",
    "import matplotlib.pyplot as plt\n",
    "\n",
    "%matplotlib inline"
   ]
  },
  {
   "cell_type": "code",
   "execution_count": 3,
   "metadata": {},
   "outputs": [],
   "source": [
    "from random import randint"
   ]
  },
  {
   "cell_type": "code",
   "execution_count": 6,
   "metadata": {},
   "outputs": [
    {
     "data": {
      "text/plain": [
       "<matplotlib.image.AxesImage at 0x1fe446b2340>"
      ]
     },
     "execution_count": 6,
     "metadata": {},
     "output_type": "execute_result"
    },
    {
     "data": {
      "image/png": "[encoded data removed]",
      "text/plain": [
       "<Figure size 432x288 with 1 Axes>"
      ]
     },
     "metadata": {
      "needs_background": "light"
     },
     "output_type": "display_data"
    }
   ],
   "source": [
    "tmp = np.random.random([8,8]) > 0.4\n",
    "\n",
    "plt.imshow(tmp)"
   ]
  },
  {
   "cell_type": "code",
   "execution_count": 4,
   "metadata": {},
   "outputs": [],
   "source": [
    "# this function does a depth-first search across a matrix of 0s and 1s, \n",
    "# looking for a path of 1s between the first and last columns of the matrix\n",
    "# such a path is called a 'percolation path'\n",
    "\n",
    "def percolate( mat ):\n",
    "    \"\"\"\n",
    "    Returns True if there is a percolation path of 1s from col 0 col -1 of a matrix of 0s and 1s\n",
    "    \"\"\"\n",
    "    nrows = mat.shape[0]\n",
    "    ncols = mat.shape[1]\n",
    "    frontier = set()\n",
    "    for i in range(0,nrows):\n",
    "        if mat[i,0]:\n",
    "            frontier.add( (i,0) )\n",
    "    explored = set()\n",
    "    flag = False # this will be returned if the frontier becomes empty without finding a\n",
    "                 # filled pixel in the right-most column\n",
    "    while frontier: # frontier evaluates to True in this context if it is non-empty\n",
    "        r,c = frontier.pop()\n",
    "        explored.add( (r,c) )\n",
    "        if r > 0: # North\n",
    "            if mat[r-1,c]:\n",
    "                coords = (r-1,c)\n",
    "                if coords not in explored: \n",
    "                    if coords not in frontier: # this order of testing is necessary since each element of explored has been in frontier\n",
    "                        frontier.add( coords )\n",
    "        if c < ncols-1: # East\n",
    "            if mat[r,c+1]:\n",
    "                if c+1 == mat.shape[1]-1 : # Hurray, we have percolated to the last column\n",
    "                    flag = True\n",
    "                    break\n",
    "                coords = (r,c+1)\n",
    "                if coords not in explored: \n",
    "                    if coords not in frontier: # this order of testing is necessary since each element of explored has been in frontier\n",
    "                        frontier.add( coords )\n",
    "        if r < nrows-1: # South\n",
    "            if mat[r+1,c]:\n",
    "                coords = (r+1,c)\n",
    "                if coords not in explored: \n",
    "                    if coords not in frontier: # this order of testing is necessary since each element of explored has been in frontier\n",
    "                        frontier.add( coords )\n",
    "        if c > 0: # West\n",
    "            if mat[r,c-1]:\n",
    "                coords = (r,c-1)\n",
    "                if coords not in explored: \n",
    "                    if coords not in frontier: # this order of testing is necessary since each element of explored has been in frontier\n",
    "                        frontier.add( coords )\n",
    "    return flag\n",
    "        "
   ]
  },
  {
   "cell_type": "markdown",
   "metadata": {},
   "source": [
    "Now test the percolate function. We will generate random images with a probability 0.6 probability of 1 in each pixel. "
   ]
  },
  {
   "cell_type": "code",
   "execution_count": 13,
   "metadata": {},
   "outputs": [
    {
     "data": {
      "text/plain": [
       "(<matplotlib.image.AxesImage at 0x1fe448e68e0>, False)"
      ]
     },
     "execution_count": 13,
     "metadata": {},
     "output_type": "execute_result"
    },
    {
     "data": {
      "image/png": "[encoded data removed]",
      "text/plain": [
       "<Figure size 432x288 with 1 Axes>"
      ]
     },
     "metadata": {
      "needs_background": "light"
     },
     "output_type": "display_data"
    }
   ],
   "source": [
    "tmp = np.random.random([8,8]) > 0.4\n",
    "\n",
    "plt.imshow(tmp), percolate(tmp)\n",
    "\n",
    "# the first result is an image; the second result is True if there is a continuous path of yellow squares from the left to\n",
    "# the right side of the image. The path is continuous if the yellow squares are joined at one side: two yellow squares \n",
    "# at a corner do not count as joined in a path\n",
    "\n",
    "# you can evaluate this cell many times, and each time look at the resulting plot and answer, to check that you \n",
    "# understand the notion of percolation, and also that the `percolate` function is getting it right ! "
   ]
  },
  {
   "cell_type": "code",
   "execution_count": 7,
   "metadata": {
    "scrolled": true
   },
   "outputs": [
    {
     "data": {
      "text/plain": [
       "1.8446744073709552e+19"
      ]
     },
     "execution_count": 7,
     "metadata": {},
     "output_type": "execute_result"
    }
   ],
   "source": [
    "# How many 8x8 binary patterns are there? \n",
    "\n",
    "2.0**64"
   ]
  },
  {
   "cell_type": "markdown",
   "metadata": {},
   "source": [
    "More than 18 billion, so our NN will need to generalise, because we will give it training sets of far fewer than 18 billion examples. "
   ]
  },
  {
   "cell_type": "markdown",
   "metadata": {},
   "source": [
    "# Construct datasets \n",
    "\n",
    "The joy of synthetic data is that we can construct as much of it as we want..."
   ]
  },
  {
   "cell_type": "code",
   "execution_count": 14,
   "metadata": {},
   "outputs": [],
   "source": [
    "import torch\n",
    "import torch.nn as nn\n",
    "import torch.nn.functional as F  # this includes tensor functions that we can use in backwards pass\n",
    "import torchvision\n",
    "import torchvision.datasets as datasets\n",
    "from torchvision import transforms\n",
    "import torch.optim as optim"
   ]
  },
  {
   "cell_type": "code",
   "execution_count": 15,
   "metadata": {},
   "outputs": [],
   "source": [
    "def make_percolation_dataset(side=8,threshold=0.42,n_examples=10):\n",
    "    \"\"\"\n",
    "    This function generates an array of random images, in the form needed for Keras, and \n",
    "    then labels them as percolati# ng or not, using the percolate function. Roughly 50% of the\n",
    "    images will have class 1 (percolating), so the dataset is likely to be reasonably balanced. \n",
    "    \"\"\"\n",
    "    X_data = (np.random.random([n_examples,side,side,1]) > threshold).astype(float) \n",
    "    Y_data = np.zeros([n_examples,1])\n",
    "    for i in range(0,n_examples):\n",
    "        if percolate(X_data[i,:,:,0]):\n",
    "            Y_data[i,0] = 1\n",
    "    return [(torch.tensor(x.astype(np.float32)).reshape(1,8,8), torch.tensor(float(y)).reshape(1) )  for x,y in zip( X_data, Y_data)]\n",
    "\n",
    "# the types of the numbers in the tensors need to be float32: the most natural place to do this data conversion\n",
    "# is in generating the datasets. "
   ]
  },
  {
   "cell_type": "code",
   "execution_count": 16,
   "metadata": {},
   "outputs": [],
   "source": [
    "training_set = make_percolation_dataset( n_examples = 1000 )\n",
    "test_set = make_percolation_dataset( n_examples = 1000 )"
   ]
  },
  {
   "cell_type": "markdown",
   "metadata": {},
   "source": [
    "When we make a dataset, we should always check how many there are of each class:  "
   ]
  },
  {
   "cell_type": "code",
   "execution_count": 17,
   "metadata": {},
   "outputs": [
    {
     "data": {
      "text/plain": [
       "0.48"
      ]
     },
     "execution_count": 17,
     "metadata": {},
     "output_type": "execute_result"
    }
   ],
   "source": [
    "# this calculates the fraction of positive examples in the training set\n",
    "sum( [ x[1].item() for x in training_set ] ) / len( training_set)"
   ]
  },
  {
   "cell_type": "markdown",
   "metadata": {},
   "source": [
    "The fraction of positive examples should ideally be close to 0.5  -- the default probability that a pixel is equal to 1 was chosen to ensure this. "
   ]
  },
  {
   "cell_type": "code",
   "execution_count": 18,
   "metadata": {},
   "outputs": [
    {
     "data": {
      "text/plain": [
       "(<matplotlib.image.AxesImage at 0x1fe48342f70>, tensor([1.]))"
      ]
     },
     "execution_count": 18,
     "metadata": {},
     "output_type": "execute_result"
    },
    {
     "data": {
      "image/png": "[encoded data removed]",
      "text/plain": [
       "<Figure size 432x288 with 1 Axes>"
      ]
     },
     "metadata": {
      "needs_background": "light"
     },
     "output_type": "display_data"
    }
   ],
   "source": [
    "# check that a random element of the training set is correctly labelled\n",
    "x,y = training_set[376]\n",
    "plt.imshow(x.numpy().squeeze() ), y  # check a random element of the training set to see it is correct\n",
    "# we need to squeeze the "
   ]
  },
  {
   "cell_type": "markdown",
   "metadata": {},
   "source": [
    "If there is a continuous yellow path from the left side to the right side of the image, then the image \"percolates\" and the y value should be 1, otherwise the y value should be 0. "
   ]
  },
  {
   "cell_type": "markdown",
   "metadata": {},
   "source": [
    "# Constructing and training models"
   ]
  },
  {
   "cell_type": "markdown",
   "metadata": {},
   "source": [
    "### A naive fully connected  Dense model for detecting percolation"
   ]
  },
  {
   "cell_type": "markdown",
   "metadata": {},
   "source": [
    "(For tutorial purposes) the first thing to try is a naive model which pays no attention to the image structure. I don't expect this type of model to work well - but you may find a way to surprise me. \n",
    "\n",
    "In the model defined below, we flatten the image to a single row of values, and then we put in a single layer of neurons, each one of which is connected to all of the inputs. In other words, each neuron in this layer has 64 inputs, and then there is a final neuron which gives the output. \n",
    "\n",
    "You will (I hope) find that this is a terrible architecture for this problem. You will find that if there are too few neurons, then the model cannot even fit the training data.  If there are too many neurons in the Dense layer, then the model will fit the training data, but fail almost completely on the validation data: that is, the model will overfit badly. \n",
    "\n",
    "What would be the only way to get this poorly designed model to work? *Use a lot of training data!* . You can try constructing a much larger training set, and then see if you can get this model to classify correctly.  I doubt it - but you might succeed. \n",
    "\n",
    "Does adding more dense layers help?  Does adding regularisation - either `l1`, `l2`, or dropout - help? "
   ]
  },
  {
   "cell_type": "code",
   "execution_count": 19,
   "metadata": {},
   "outputs": [],
   "source": [
    "# our simplest neural net - it is just going to be a linear layer and then sigmoid \n",
    "# (equivalent to softmax when there are only two classes)\n",
    "# This is simply logistic regression. We expect it to do badly on validation data, but it \n",
    "# may overfit  training data\n",
    "class NN1( nn.Module ):\n",
    "    \n",
    "    def __init__(self): \n",
    "        super(NN1, self).__init__()\n",
    "        self.layers = nn.Sequential( \n",
    "            nn.Flatten(), \n",
    "            nn.Linear(64,1),\n",
    "            nn.Sigmoid())  # a linear layer (a matrix, plus biases) with 784 inputs and 10 outputs\n",
    "             # if we are going to make probabilistic categorical predictions, it is more flexible to allow unnormalised \n",
    "             # outputs, because we can use  different functions for the predictions and and in calculating the loss, as \n",
    "             # we shall soon see\n",
    "    \n",
    "    \n",
    "    def forward( self, x ): # computes the forward pass ... this one is particularly simple\n",
    "        x = self.layers( x )\n",
    "        return x"
   ]
  },
  {
   "cell_type": "code",
   "execution_count": 20,
   "metadata": {
    "scrolled": true
   },
   "outputs": [],
   "source": [
    "net = NN1() \n",
    "# the first time I coded this, I thought nn would be a good name for the network,\n",
    "# but unfortunately it masks the PyTorch nn module .... so I am using net instead"
   ]
  },
  {
   "cell_type": "code",
   "execution_count": 21,
   "metadata": {},
   "outputs": [
    {
     "data": {
      "text/plain": [
       "Sequential(\n",
       "  (0): Flatten(start_dim=1, end_dim=-1)\n",
       "  (1): Linear(in_features=64, out_features=1, bias=True)\n",
       "  (2): Sigmoid()\n",
       ")"
      ]
     },
     "execution_count": 21,
     "metadata": {},
     "output_type": "execute_result"
    }
   ],
   "source": [
    "net.layers"
   ]
  },
  {
   "cell_type": "code",
   "execution_count": 22,
   "metadata": {},
   "outputs": [
    {
     "data": {
      "text/plain": [
       "OrderedDict([('layers.1.weight',\n",
       "              tensor([[-0.0431, -0.1145, -0.0968,  0.0654,  0.0654,  0.0836, -0.0180, -0.1229,\n",
       "                       -0.0033,  0.0121,  0.1032, -0.1219, -0.0412, -0.0370,  0.0702,  0.0071,\n",
       "                       -0.0479, -0.0423, -0.0980,  0.0943,  0.0304, -0.0794,  0.0125, -0.0750,\n",
       "                       -0.0537,  0.0336,  0.0573, -0.0925,  0.0062, -0.0573,  0.0636,  0.0200,\n",
       "                        0.1223, -0.0340, -0.0744, -0.0236, -0.0793, -0.0218, -0.0042, -0.0963,\n",
       "                        0.0333,  0.0788, -0.0597,  0.0547, -0.0736,  0.0724, -0.1181,  0.0679,\n",
       "                       -0.0017, -0.0018,  0.0626, -0.0581,  0.0018, -0.1113,  0.0386, -0.0887,\n",
       "                       -0.0089, -0.0338,  0.0833,  0.0544,  0.1058, -0.0716,  0.0839,  0.0576]])),\n",
       "             ('layers.1.bias', tensor([-0.0846]))])"
      ]
     },
     "execution_count": 22,
     "metadata": {},
     "output_type": "execute_result"
    }
   ],
   "source": [
    "# the state_dict is a useful attribute of a Model, \n",
    "# which contains convenient names as keys for all the tensors\n",
    "net.state_dict()"
   ]
  },
  {
   "cell_type": "markdown",
   "metadata": {},
   "source": [
    "Now we will go step by step through all the stages of constructing a NN training loop, before putting it all together."
   ]
  },
  {
   "cell_type": "code",
   "execution_count": 23,
   "metadata": {},
   "outputs": [],
   "source": [
    "# DataLoader is a useful utility class provided by pytorch for extracting minibatches from \n",
    "# a large dataset. \n",
    "\n",
    "trainloader = torch.utils.data.DataLoader( training_set, batch_size=4, shuffle=True)\n",
    "testloader = torch.utils.data.DataLoader( test_set, batch_size=4, shuffle=True)\n",
    "\n",
    "# if you want to change the batch size, you need to define a new dataloader: \n",
    "# the dataloader is a lightweight class that just provides iteration over the dataset"
   ]
  },
  {
   "cell_type": "code",
   "execution_count": 24,
   "metadata": {},
   "outputs": [],
   "source": [
    "# we construct a (temporary) iterator from trainloader, and we get the first minibatch\n",
    "tmpiter = iter(trainloader)\n",
    "\n",
    "images, labels = tmpiter.next() # the minibatch is a list of [ images, labels ]\n",
    "\n",
    "# let's check what form the images and labels come in"
   ]
  },
  {
   "cell_type": "code",
   "execution_count": 25,
   "metadata": {},
   "outputs": [
    {
     "data": {
      "text/plain": [
       "tensor([[1.],\n",
       "        [0.],\n",
       "        [0.],\n",
       "        [1.]])"
      ]
     },
     "execution_count": 25,
     "metadata": {},
     "output_type": "execute_result"
    }
   ],
   "source": [
    "labels"
   ]
  },
  {
   "cell_type": "code",
   "execution_count": 26,
   "metadata": {},
   "outputs": [
    {
     "data": {
      "text/plain": [
       "torch.Size([4, 1, 8, 8])"
      ]
     },
     "execution_count": 26,
     "metadata": {},
     "output_type": "execute_result"
    }
   ],
   "source": [
    "images.shape # always check the shapes of your tensors..."
   ]
  },
  {
   "cell_type": "code",
   "execution_count": 27,
   "metadata": {},
   "outputs": [
    {
     "data": {
      "text/plain": [
       "tensor([[0.5497],\n",
       "        [0.4132],\n",
       "        [0.3857],\n",
       "        [0.4326]], grad_fn=<SigmoidBackward>)"
      ]
     },
     "execution_count": 27,
     "metadata": {},
     "output_type": "execute_result"
    }
   ],
   "source": [
    "net.forward( images ) # does our nn work? What does it produce? "
   ]
  },
  {
   "cell_type": "markdown",
   "metadata": {},
   "source": [
    "### Which loss function? \n",
    "\n",
    "We will use log-loss, because we are predicting classes (0 and 1, non-percolating and percolating).  \n",
    "\n",
    "We could use two outputs, produced by softmax, and cross-entropy loss, as we did for MNIST. \n",
    "\n",
    "But then we have highly redundant output weights. \n",
    "\n",
    "We can equivalently use one sigmoid neuron as output: the output of this neuron is the predicted probability of 1. \n",
    "\n",
    "The loss function is provided by PyTorch: BCELoss.  Look at its documentation on the PyTorch site. "
   ]
  },
  {
   "cell_type": "code",
   "execution_count": 28,
   "metadata": {},
   "outputs": [],
   "source": [
    "# BCELoss is binary cross entropy loss: \n",
    "# this takes a single probability (as output by a sigmoid neuron for example)\n",
    "loss_function = nn.BCELoss() \n",
    "\n",
    "# note that the result of loss function is a one element tensor: it needs to be \n",
    "# tensor because we start the backward pass from the loss. "
   ]
  },
  {
   "cell_type": "code",
   "execution_count": 29,
   "metadata": {},
   "outputs": [
    {
     "data": {
      "text/plain": [
       "tensor(0.6142, grad_fn=<BinaryCrossEntropyBackward>)"
      ]
     },
     "execution_count": 29,
     "metadata": {},
     "output_type": "execute_result"
    }
   ],
   "source": [
    "loss_function( net.forward( images ), labels )"
   ]
  },
  {
   "cell_type": "markdown",
   "metadata": {},
   "source": [
    "-Log( 0.5 ) = 0.69, so we expect the average loss to be 0.7ish, as the network is not trained yet. "
   ]
  },
  {
   "cell_type": "markdown",
   "metadata": {},
   "source": [
    "### Calculating Accuracy\n",
    "\n",
    "How do we calculate accuracy, which is the percentage of correct predictions? \n",
    "\n",
    "We cound a sigmoid output that is > 0.5 as predicting a 1, and if it is < 0.5, as a prediction of 0. "
   ]
  },
  {
   "cell_type": "code",
   "execution_count": 30,
   "metadata": {},
   "outputs": [
    {
     "data": {
      "text/plain": [
       "tensor([[0.5497],\n",
       "        [0.4132],\n",
       "        [0.3857],\n",
       "        [0.4326]], grad_fn=<SigmoidBackward>)"
      ]
     },
     "execution_count": 30,
     "metadata": {},
     "output_type": "execute_result"
    }
   ],
   "source": [
    "result = net.forward(images)\n",
    "result"
   ]
  },
  {
   "cell_type": "code",
   "execution_count": 32,
   "metadata": {},
   "outputs": [
    {
     "data": {
      "text/plain": [
       "tensor([[ True],\n",
       "        [False],\n",
       "        [False],\n",
       "        [False]])"
      ]
     },
     "execution_count": 32,
     "metadata": {},
     "output_type": "execute_result"
    }
   ],
   "source": [
    "result > 0.5"
   ]
  },
  {
   "cell_type": "code",
   "execution_count": 33,
   "metadata": {},
   "outputs": [
    {
     "data": {
      "text/plain": [
       "tensor([[ True],\n",
       "        [False],\n",
       "        [False],\n",
       "        [ True]])"
      ]
     },
     "execution_count": 33,
     "metadata": {},
     "output_type": "execute_result"
    }
   ],
   "source": [
    "labels > 0.5 "
   ]
  },
  {
   "cell_type": "code",
   "execution_count": 34,
   "metadata": {},
   "outputs": [
    {
     "data": {
      "text/plain": [
       "3"
      ]
     },
     "execution_count": 34,
     "metadata": {},
     "output_type": "execute_result"
    }
   ],
   "source": [
    "# This expression gives the sum of the number of correct predictions in the batch\n",
    "# Note that we access the value of a zero-dimensional tensor with .item()\n",
    "\n",
    "sum( (result > 0.5) == (labels > 0.5 ) ).item()"
   ]
  },
  {
   "cell_type": "code",
   "execution_count": 35,
   "metadata": {},
   "outputs": [],
   "source": [
    "# this function calculates the loss and error rate on the validation set\n",
    "# assuming that the output of the neural net nn is a single prediction probability, from a single sigmoid neuron. \n",
    "\n",
    "def accuracy_and_loss( net, loss_function, dataloader ):\n",
    "    total_correct = 0 \n",
    "    total_loss = 0.0 \n",
    "    total_examples = 0 \n",
    "    n_batches = 0 \n",
    "    with torch.no_grad():  # we do not neet to compute the gradients when making predictions on the validation set\n",
    "        for data in dataloader: \n",
    "            images, labels = data\n",
    "            outputs = net(images)\n",
    "            batch_loss = loss_function(outputs, labels) # this is averaged over the batch\n",
    "            n_batches += 1\n",
    "            total_loss += batch_loss.item()\n",
    "            total_correct += sum( (outputs > 0.5 ) == ( labels > 0.5 ) ).item() # number correct in the minibatch\n",
    "            total_examples += labels.size(0) # the number of labels, which is just the size of the minibatch \n",
    "             \n",
    "    \n",
    "    accuracy = total_correct / total_examples\n",
    "    mean_loss = total_loss / n_batches\n",
    "    \n",
    "    return ( accuracy, mean_loss )\n",
    "    #print( \"Accuracy on test set: %d %%\" %(100 * correct/total_examples))\n"
   ]
  },
  {
   "cell_type": "code",
   "execution_count": 36,
   "metadata": {},
   "outputs": [
    {
     "data": {
      "text/plain": [
       "(0.484, 0.7332898902893067)"
      ]
     },
     "execution_count": 36,
     "metadata": {},
     "output_type": "execute_result"
    }
   ],
   "source": [
    "# Testing accuracy_and_loss\n",
    "\n",
    "accuracy_and_loss( net, loss_function, testloader)"
   ]
  },
  {
   "cell_type": "markdown",
   "metadata": {},
   "source": [
    "Accuracy should be 0.5ish, loss should be 0.7ish"
   ]
  },
  {
   "cell_type": "markdown",
   "metadata": {},
   "source": [
    "## Putting it all together: training a network"
   ]
  },
  {
   "cell_type": "code",
   "execution_count": 37,
   "metadata": {},
   "outputs": [
    {
     "name": "stdout",
     "output_type": "stream",
     "text": [
      "Epoch 1 loss: 0.699 acc: 0.507 val_loss: 0.698 val_acc: 0.523\n",
      "Epoch 2 loss: 0.693 acc: 0.517 val_loss: 0.693 val_acc: 0.534\n",
      "Epoch 3 loss: 0.687 acc: 0.551 val_loss: 0.694 val_acc: 0.525\n",
      "Epoch 4 loss: 0.682 acc: 0.549 val_loss: 0.690 val_acc: 0.547\n",
      "Epoch 5 loss: 0.682 acc: 0.555 val_loss: 0.694 val_acc: 0.527\n",
      "Epoch 6 loss: 0.678 acc: 0.563 val_loss: 0.689 val_acc: 0.536\n",
      "Epoch 7 loss: 0.679 acc: 0.570 val_loss: 0.687 val_acc: 0.544\n",
      "Epoch 8 loss: 0.677 acc: 0.571 val_loss: 0.689 val_acc: 0.540\n",
      "Epoch 9 loss: 0.676 acc: 0.567 val_loss: 0.687 val_acc: 0.541\n",
      "Epoch 10 loss: 0.673 acc: 0.573 val_loss: 0.686 val_acc: 0.545\n",
      "Epoch 11 loss: 0.671 acc: 0.585 val_loss: 0.684 val_acc: 0.557\n",
      "Epoch 12 loss: 0.670 acc: 0.587 val_loss: 0.689 val_acc: 0.542\n",
      "Epoch 13 loss: 0.666 acc: 0.591 val_loss: 0.686 val_acc: 0.559\n",
      "Epoch 14 loss: 0.666 acc: 0.594 val_loss: 0.691 val_acc: 0.542\n",
      "Epoch 15 loss: 0.666 acc: 0.602 val_loss: 0.685 val_acc: 0.551\n",
      "Epoch 16 loss: 0.665 acc: 0.600 val_loss: 0.685 val_acc: 0.541\n",
      "Epoch 17 loss: 0.662 acc: 0.615 val_loss: 0.683 val_acc: 0.552\n",
      "Epoch 18 loss: 0.662 acc: 0.604 val_loss: 0.687 val_acc: 0.539\n",
      "Epoch 19 loss: 0.660 acc: 0.601 val_loss: 0.680 val_acc: 0.566\n",
      "Epoch 20 loss: 0.661 acc: 0.616 val_loss: 0.679 val_acc: 0.570\n",
      "Epoch 21 loss: 0.660 acc: 0.608 val_loss: 0.681 val_acc: 0.572\n",
      "Epoch 22 loss: 0.658 acc: 0.614 val_loss: 0.680 val_acc: 0.567\n",
      "Epoch 23 loss: 0.656 acc: 0.618 val_loss: 0.686 val_acc: 0.550\n",
      "Epoch 24 loss: 0.660 acc: 0.614 val_loss: 0.682 val_acc: 0.542\n",
      "Epoch 25 loss: 0.659 acc: 0.623 val_loss: 0.686 val_acc: 0.544\n",
      "Epoch 26 loss: 0.657 acc: 0.629 val_loss: 0.678 val_acc: 0.563\n",
      "Epoch 27 loss: 0.655 acc: 0.622 val_loss: 0.680 val_acc: 0.553\n",
      "Epoch 28 loss: 0.655 acc: 0.620 val_loss: 0.689 val_acc: 0.544\n",
      "Epoch 29 loss: 0.655 acc: 0.624 val_loss: 0.679 val_acc: 0.556\n",
      "Epoch 30 loss: 0.654 acc: 0.630 val_loss: 0.683 val_acc: 0.551\n",
      "Epoch 31 loss: 0.653 acc: 0.628 val_loss: 0.683 val_acc: 0.554\n",
      "Epoch 32 loss: 0.655 acc: 0.632 val_loss: 0.683 val_acc: 0.555\n",
      "Epoch 33 loss: 0.651 acc: 0.628 val_loss: 0.684 val_acc: 0.548\n",
      "Epoch 34 loss: 0.648 acc: 0.633 val_loss: 0.677 val_acc: 0.563\n",
      "Epoch 35 loss: 0.650 acc: 0.624 val_loss: 0.684 val_acc: 0.555\n",
      "Epoch 36 loss: 0.650 acc: 0.631 val_loss: 0.679 val_acc: 0.554\n",
      "Epoch 37 loss: 0.649 acc: 0.633 val_loss: 0.680 val_acc: 0.557\n",
      "Epoch 38 loss: 0.647 acc: 0.627 val_loss: 0.680 val_acc: 0.557\n",
      "Epoch 39 loss: 0.650 acc: 0.636 val_loss: 0.680 val_acc: 0.568\n",
      "Epoch 40 loss: 0.647 acc: 0.626 val_loss: 0.679 val_acc: 0.568\n",
      "Epoch 41 loss: 0.648 acc: 0.626 val_loss: 0.682 val_acc: 0.559\n",
      "Epoch 42 loss: 0.648 acc: 0.639 val_loss: 0.678 val_acc: 0.569\n",
      "Epoch 43 loss: 0.646 acc: 0.634 val_loss: 0.680 val_acc: 0.558\n",
      "Epoch 44 loss: 0.647 acc: 0.631 val_loss: 0.682 val_acc: 0.556\n",
      "Epoch 45 loss: 0.646 acc: 0.635 val_loss: 0.675 val_acc: 0.572\n",
      "Epoch 46 loss: 0.645 acc: 0.629 val_loss: 0.683 val_acc: 0.559\n",
      "Epoch 47 loss: 0.646 acc: 0.628 val_loss: 0.682 val_acc: 0.555\n",
      "Epoch 48 loss: 0.642 acc: 0.641 val_loss: 0.682 val_acc: 0.558\n",
      "Epoch 49 loss: 0.646 acc: 0.634 val_loss: 0.681 val_acc: 0.556\n",
      "Epoch 50 loss: 0.644 acc: 0.637 val_loss: 0.680 val_acc: 0.574\n",
      "Epoch 51 loss: 0.643 acc: 0.627 val_loss: 0.678 val_acc: 0.563\n",
      "Epoch 52 loss: 0.641 acc: 0.631 val_loss: 0.677 val_acc: 0.567\n",
      "Epoch 53 loss: 0.644 acc: 0.634 val_loss: 0.681 val_acc: 0.556\n",
      "Epoch 54 loss: 0.642 acc: 0.637 val_loss: 0.678 val_acc: 0.565\n",
      "Epoch 55 loss: 0.646 acc: 0.632 val_loss: 0.682 val_acc: 0.555\n",
      "Epoch 56 loss: 0.642 acc: 0.634 val_loss: 0.685 val_acc: 0.561\n",
      "Epoch 57 loss: 0.641 acc: 0.627 val_loss: 0.678 val_acc: 0.567\n",
      "Epoch 58 loss: 0.647 acc: 0.638 val_loss: 0.676 val_acc: 0.570\n",
      "Epoch 59 loss: 0.640 acc: 0.637 val_loss: 0.678 val_acc: 0.564\n",
      "Epoch 60 loss: 0.642 acc: 0.633 val_loss: 0.681 val_acc: 0.566\n",
      "Epoch 61 loss: 0.638 acc: 0.628 val_loss: 0.682 val_acc: 0.565\n",
      "Epoch 62 loss: 0.639 acc: 0.634 val_loss: 0.681 val_acc: 0.575\n",
      "Epoch 63 loss: 0.641 acc: 0.629 val_loss: 0.677 val_acc: 0.570\n",
      "Epoch 64 loss: 0.637 acc: 0.623 val_loss: 0.679 val_acc: 0.566\n",
      "Epoch 65 loss: 0.643 acc: 0.628 val_loss: 0.678 val_acc: 0.566\n",
      "Epoch 66 loss: 0.640 acc: 0.640 val_loss: 0.682 val_acc: 0.570\n",
      "Epoch 67 loss: 0.640 acc: 0.637 val_loss: 0.678 val_acc: 0.569\n",
      "Epoch 68 loss: 0.638 acc: 0.642 val_loss: 0.677 val_acc: 0.565\n",
      "Epoch 69 loss: 0.640 acc: 0.637 val_loss: 0.676 val_acc: 0.573\n",
      "Epoch 70 loss: 0.637 acc: 0.628 val_loss: 0.681 val_acc: 0.568\n",
      "Epoch 71 loss: 0.641 acc: 0.634 val_loss: 0.681 val_acc: 0.563\n",
      "Epoch 72 loss: 0.640 acc: 0.631 val_loss: 0.679 val_acc: 0.571\n",
      "Epoch 73 loss: 0.642 acc: 0.639 val_loss: 0.680 val_acc: 0.569\n",
      "Epoch 74 loss: 0.639 acc: 0.639 val_loss: 0.679 val_acc: 0.574\n",
      "Epoch 75 loss: 0.636 acc: 0.630 val_loss: 0.677 val_acc: 0.568\n",
      "Epoch 76 loss: 0.636 acc: 0.635 val_loss: 0.677 val_acc: 0.572\n",
      "Epoch 77 loss: 0.636 acc: 0.629 val_loss: 0.678 val_acc: 0.571\n",
      "Epoch 78 loss: 0.634 acc: 0.637 val_loss: 0.676 val_acc: 0.570\n",
      "Epoch 79 loss: 0.636 acc: 0.639 val_loss: 0.682 val_acc: 0.570\n",
      "Epoch 80 loss: 0.635 acc: 0.633 val_loss: 0.680 val_acc: 0.561\n",
      "Epoch 81 loss: 0.634 acc: 0.642 val_loss: 0.678 val_acc: 0.570\n",
      "Epoch 82 loss: 0.639 acc: 0.638 val_loss: 0.676 val_acc: 0.561\n",
      "Epoch 83 loss: 0.635 acc: 0.633 val_loss: 0.679 val_acc: 0.572\n",
      "Epoch 84 loss: 0.637 acc: 0.650 val_loss: 0.684 val_acc: 0.570\n",
      "Epoch 85 loss: 0.637 acc: 0.644 val_loss: 0.679 val_acc: 0.570\n",
      "Epoch 86 loss: 0.632 acc: 0.637 val_loss: 0.682 val_acc: 0.573\n",
      "Epoch 87 loss: 0.633 acc: 0.648 val_loss: 0.677 val_acc: 0.573\n",
      "Epoch 88 loss: 0.638 acc: 0.638 val_loss: 0.674 val_acc: 0.569\n",
      "Epoch 89 loss: 0.631 acc: 0.643 val_loss: 0.676 val_acc: 0.571\n",
      "Epoch 90 loss: 0.634 acc: 0.643 val_loss: 0.679 val_acc: 0.573\n",
      "Epoch 91 loss: 0.639 acc: 0.638 val_loss: 0.675 val_acc: 0.575\n",
      "Epoch 92 loss: 0.633 acc: 0.640 val_loss: 0.679 val_acc: 0.570\n",
      "Epoch 93 loss: 0.634 acc: 0.642 val_loss: 0.676 val_acc: 0.568\n",
      "Epoch 94 loss: 0.632 acc: 0.631 val_loss: 0.680 val_acc: 0.565\n",
      "Epoch 95 loss: 0.635 acc: 0.643 val_loss: 0.682 val_acc: 0.574\n",
      "Epoch 96 loss: 0.634 acc: 0.643 val_loss: 0.677 val_acc: 0.576\n",
      "Epoch 97 loss: 0.633 acc: 0.637 val_loss: 0.681 val_acc: 0.573\n",
      "Epoch 98 loss: 0.628 acc: 0.637 val_loss: 0.684 val_acc: 0.569\n",
      "Epoch 99 loss: 0.637 acc: 0.641 val_loss: 0.677 val_acc: 0.578\n",
      "Epoch 100 loss: 0.635 acc: 0.632 val_loss: 0.679 val_acc: 0.580\n",
      "Epoch 101 loss: 0.637 acc: 0.643 val_loss: 0.675 val_acc: 0.581\n",
      "Epoch 102 loss: 0.629 acc: 0.638 val_loss: 0.679 val_acc: 0.573\n",
      "Epoch 103 loss: 0.637 acc: 0.631 val_loss: 0.678 val_acc: 0.573\n",
      "Epoch 104 loss: 0.633 acc: 0.638 val_loss: 0.677 val_acc: 0.578\n",
      "Epoch 105 loss: 0.633 acc: 0.637 val_loss: 0.676 val_acc: 0.572\n",
      "Epoch 106 loss: 0.632 acc: 0.651 val_loss: 0.680 val_acc: 0.574\n",
      "Epoch 107 loss: 0.631 acc: 0.647 val_loss: 0.679 val_acc: 0.570\n",
      "Epoch 108 loss: 0.634 acc: 0.639 val_loss: 0.679 val_acc: 0.574\n",
      "Epoch 109 loss: 0.634 acc: 0.637 val_loss: 0.680 val_acc: 0.576\n",
      "Epoch 110 loss: 0.629 acc: 0.650 val_loss: 0.675 val_acc: 0.579\n",
      "Epoch 111 loss: 0.632 acc: 0.627 val_loss: 0.678 val_acc: 0.570\n",
      "Epoch 112 loss: 0.633 acc: 0.645 val_loss: 0.676 val_acc: 0.576\n",
      "Epoch 113 loss: 0.630 acc: 0.631 val_loss: 0.679 val_acc: 0.578\n",
      "Epoch 114 loss: 0.633 acc: 0.643 val_loss: 0.674 val_acc: 0.583\n",
      "Epoch 115 loss: 0.628 acc: 0.643 val_loss: 0.680 val_acc: 0.583\n",
      "Epoch 116 loss: 0.631 acc: 0.637 val_loss: 0.683 val_acc: 0.573\n",
      "Epoch 117 loss: 0.630 acc: 0.644 val_loss: 0.679 val_acc: 0.583\n",
      "Epoch 118 loss: 0.632 acc: 0.647 val_loss: 0.678 val_acc: 0.580\n",
      "Epoch 119 loss: 0.630 acc: 0.634 val_loss: 0.679 val_acc: 0.581\n",
      "Epoch 120 loss: 0.629 acc: 0.644 val_loss: 0.676 val_acc: 0.578\n",
      "Epoch 121 loss: 0.633 acc: 0.642 val_loss: 0.680 val_acc: 0.575\n",
      "Epoch 122 loss: 0.631 acc: 0.649 val_loss: 0.670 val_acc: 0.580\n",
      "Epoch 123 loss: 0.628 acc: 0.647 val_loss: 0.676 val_acc: 0.583\n",
      "Epoch 124 loss: 0.629 acc: 0.638 val_loss: 0.679 val_acc: 0.585\n",
      "Epoch 125 loss: 0.630 acc: 0.647 val_loss: 0.684 val_acc: 0.580\n",
      "Epoch 126 loss: 0.631 acc: 0.644 val_loss: 0.670 val_acc: 0.580\n",
      "Epoch 127 loss: 0.631 acc: 0.644 val_loss: 0.674 val_acc: 0.581\n",
      "Epoch 128 loss: 0.633 acc: 0.645 val_loss: 0.676 val_acc: 0.583\n",
      "Epoch 129 loss: 0.628 acc: 0.636 val_loss: 0.680 val_acc: 0.582\n",
      "Epoch 130 loss: 0.628 acc: 0.647 val_loss: 0.681 val_acc: 0.586\n",
      "Epoch 131 loss: 0.630 acc: 0.653 val_loss: 0.677 val_acc: 0.585\n",
      "Epoch 132 loss: 0.630 acc: 0.641 val_loss: 0.674 val_acc: 0.579\n",
      "Epoch 133 loss: 0.631 acc: 0.636 val_loss: 0.677 val_acc: 0.582\n",
      "Epoch 134 loss: 0.628 acc: 0.639 val_loss: 0.674 val_acc: 0.586\n"
     ]
    },
    {
     "name": "stdout",
     "output_type": "stream",
     "text": [
      "Epoch 135 loss: 0.627 acc: 0.648 val_loss: 0.674 val_acc: 0.580\n",
      "Epoch 136 loss: 0.628 acc: 0.643 val_loss: 0.671 val_acc: 0.580\n",
      "Epoch 137 loss: 0.625 acc: 0.639 val_loss: 0.677 val_acc: 0.580\n",
      "Epoch 138 loss: 0.626 acc: 0.648 val_loss: 0.675 val_acc: 0.586\n",
      "Epoch 139 loss: 0.627 acc: 0.644 val_loss: 0.671 val_acc: 0.587\n",
      "Epoch 140 loss: 0.631 acc: 0.640 val_loss: 0.671 val_acc: 0.581\n",
      "Epoch 141 loss: 0.628 acc: 0.646 val_loss: 0.671 val_acc: 0.585\n",
      "Epoch 142 loss: 0.629 acc: 0.647 val_loss: 0.671 val_acc: 0.584\n",
      "Epoch 143 loss: 0.628 acc: 0.638 val_loss: 0.670 val_acc: 0.581\n",
      "Epoch 144 loss: 0.630 acc: 0.640 val_loss: 0.672 val_acc: 0.589\n",
      "Epoch 145 loss: 0.630 acc: 0.643 val_loss: 0.669 val_acc: 0.587\n",
      "Epoch 146 loss: 0.622 acc: 0.639 val_loss: 0.676 val_acc: 0.590\n",
      "Epoch 147 loss: 0.625 acc: 0.646 val_loss: 0.668 val_acc: 0.583\n",
      "Epoch 148 loss: 0.624 acc: 0.637 val_loss: 0.676 val_acc: 0.591\n",
      "Epoch 149 loss: 0.627 acc: 0.652 val_loss: 0.675 val_acc: 0.590\n",
      "Epoch 150 loss: 0.625 acc: 0.651 val_loss: 0.675 val_acc: 0.587\n",
      "Epoch 151 loss: 0.630 acc: 0.647 val_loss: 0.673 val_acc: 0.591\n",
      "Epoch 152 loss: 0.625 acc: 0.653 val_loss: 0.672 val_acc: 0.590\n",
      "Epoch 153 loss: 0.631 acc: 0.647 val_loss: 0.673 val_acc: 0.591\n",
      "Epoch 154 loss: 0.623 acc: 0.653 val_loss: 0.673 val_acc: 0.590\n",
      "Epoch 155 loss: 0.627 acc: 0.651 val_loss: 0.670 val_acc: 0.588\n",
      "Epoch 156 loss: 0.623 acc: 0.651 val_loss: 0.672 val_acc: 0.587\n",
      "Epoch 157 loss: 0.623 acc: 0.639 val_loss: 0.674 val_acc: 0.593\n",
      "Epoch 158 loss: 0.629 acc: 0.646 val_loss: 0.670 val_acc: 0.591\n",
      "Epoch 159 loss: 0.625 acc: 0.650 val_loss: 0.669 val_acc: 0.591\n",
      "Epoch 160 loss: 0.626 acc: 0.658 val_loss: 0.670 val_acc: 0.591\n",
      "Epoch 161 loss: 0.624 acc: 0.651 val_loss: 0.672 val_acc: 0.588\n",
      "Epoch 162 loss: 0.624 acc: 0.654 val_loss: 0.673 val_acc: 0.591\n",
      "Epoch 163 loss: 0.622 acc: 0.652 val_loss: 0.671 val_acc: 0.596\n",
      "Epoch 164 loss: 0.620 acc: 0.655 val_loss: 0.672 val_acc: 0.587\n",
      "Epoch 165 loss: 0.624 acc: 0.640 val_loss: 0.668 val_acc: 0.589\n",
      "Epoch 166 loss: 0.626 acc: 0.651 val_loss: 0.668 val_acc: 0.586\n",
      "Epoch 167 loss: 0.625 acc: 0.644 val_loss: 0.669 val_acc: 0.595\n",
      "Epoch 168 loss: 0.625 acc: 0.661 val_loss: 0.668 val_acc: 0.593\n",
      "Epoch 169 loss: 0.625 acc: 0.650 val_loss: 0.667 val_acc: 0.592\n",
      "Epoch 170 loss: 0.622 acc: 0.648 val_loss: 0.667 val_acc: 0.593\n",
      "Epoch 171 loss: 0.625 acc: 0.653 val_loss: 0.672 val_acc: 0.594\n",
      "Epoch 172 loss: 0.624 acc: 0.653 val_loss: 0.665 val_acc: 0.594\n",
      "Epoch 173 loss: 0.623 acc: 0.648 val_loss: 0.665 val_acc: 0.594\n",
      "Epoch 174 loss: 0.626 acc: 0.654 val_loss: 0.674 val_acc: 0.586\n",
      "Epoch 175 loss: 0.627 acc: 0.645 val_loss: 0.670 val_acc: 0.595\n",
      "Epoch 176 loss: 0.625 acc: 0.655 val_loss: 0.667 val_acc: 0.596\n",
      "Epoch 177 loss: 0.622 acc: 0.652 val_loss: 0.669 val_acc: 0.592\n",
      "Epoch 178 loss: 0.621 acc: 0.647 val_loss: 0.665 val_acc: 0.592\n",
      "Epoch 179 loss: 0.620 acc: 0.655 val_loss: 0.668 val_acc: 0.596\n",
      "Epoch 180 loss: 0.626 acc: 0.650 val_loss: 0.666 val_acc: 0.595\n",
      "Epoch 181 loss: 0.623 acc: 0.653 val_loss: 0.669 val_acc: 0.594\n",
      "Epoch 182 loss: 0.617 acc: 0.651 val_loss: 0.667 val_acc: 0.593\n",
      "Epoch 183 loss: 0.623 acc: 0.650 val_loss: 0.665 val_acc: 0.597\n",
      "Epoch 184 loss: 0.622 acc: 0.656 val_loss: 0.664 val_acc: 0.594\n",
      "Epoch 185 loss: 0.622 acc: 0.644 val_loss: 0.667 val_acc: 0.591\n",
      "Epoch 186 loss: 0.620 acc: 0.661 val_loss: 0.668 val_acc: 0.595\n",
      "Epoch 187 loss: 0.623 acc: 0.662 val_loss: 0.666 val_acc: 0.591\n",
      "Epoch 188 loss: 0.620 acc: 0.655 val_loss: 0.676 val_acc: 0.592\n",
      "Epoch 189 loss: 0.619 acc: 0.652 val_loss: 0.667 val_acc: 0.596\n",
      "Epoch 190 loss: 0.621 acc: 0.654 val_loss: 0.669 val_acc: 0.589\n",
      "Epoch 191 loss: 0.624 acc: 0.659 val_loss: 0.667 val_acc: 0.598\n",
      "Epoch 192 loss: 0.623 acc: 0.653 val_loss: 0.662 val_acc: 0.598\n",
      "Epoch 193 loss: 0.620 acc: 0.651 val_loss: 0.667 val_acc: 0.597\n",
      "Epoch 194 loss: 0.620 acc: 0.661 val_loss: 0.670 val_acc: 0.587\n",
      "Epoch 195 loss: 0.624 acc: 0.657 val_loss: 0.668 val_acc: 0.596\n",
      "Epoch 196 loss: 0.620 acc: 0.650 val_loss: 0.664 val_acc: 0.592\n",
      "Epoch 197 loss: 0.622 acc: 0.659 val_loss: 0.668 val_acc: 0.594\n",
      "Epoch 198 loss: 0.622 acc: 0.666 val_loss: 0.665 val_acc: 0.584\n",
      "Epoch 199 loss: 0.621 acc: 0.652 val_loss: 0.661 val_acc: 0.595\n",
      "Epoch 200 loss: 0.616 acc: 0.649 val_loss: 0.667 val_acc: 0.597\n"
     ]
    }
   ],
   "source": [
    "# This cell is our pattern for nn initialisation and training \n",
    "# In the next section we convert it into a function...\n",
    "\n",
    "trainloader = torch.utils.data.DataLoader( training_set, batch_size=32, shuffle=True)\n",
    "testloader = torch.utils.data.DataLoader( test_set, batch_size=32, shuffle=True)\n",
    "\n",
    "net = NN1()\n",
    "optimizer1 = optim.RMSprop( net.parameters(), lr=0.001 )\n",
    "\n",
    "for epoch in range(200): # number of times to loop over the dataset\n",
    "    total_loss = 0 \n",
    "    total_correct = 0 \n",
    "    total_examples = 0 \n",
    "    n_mini_batches = 0\n",
    "    \n",
    "    for i, mini_batch in enumerate( trainloader, 0 ):\n",
    "        images, labels = mini_batch\n",
    "        \n",
    "        # zero the parameter gradients\n",
    "        # all the parameters that are being updated are in the optimizer, \n",
    "        # so if we zero the gradients of all the tensors in the optimizer, \n",
    "        # that is the safest way to zero all the gradients\n",
    "        optimizer1.zero_grad()\n",
    "        \n",
    "        outputs = net(images) # this is the forward pass\n",
    "        \n",
    "        loss = loss_function ( outputs, labels )\n",
    "        \n",
    "        loss.backward() # does the backward pass and computes all gradients\n",
    "        \n",
    "        optimizer1.step() # does one optimisation step\n",
    "        \n",
    "        n_mini_batches += 1 # keep track of number of minibatches, and collect the loss for each minibatch\n",
    "        total_loss += loss.item() # remember that the loss is a zero-order tensor\n",
    "        # so that to extract its value, we use .item(), as we cannot index as there are no dimensions\n",
    "        \n",
    "        # keep track of number of examples, and collect number correct in each minibatch\n",
    "        total_correct += sum( ( outputs > 0.5 ) == ( labels > 0.5 ) ).item()\n",
    "        total_examples += len( labels )\n",
    "        \n",
    "    # calculate statistics for each epoch and print them. \n",
    "    # You can alter this code to accumulate these statistics into lists/vectors and plot them\n",
    "    epoch_training_accuracy = total_correct / total_examples\n",
    "    epoch_training_loss = total_loss / n_mini_batches\n",
    "    \n",
    "    val_accuracy, val_loss = accuracy_and_loss( net, loss_function, testloader )\n",
    "    \n",
    "    print('Epoch %d loss: %.3f acc: %.3f val_loss: %.3f val_acc: %.3f'\n",
    "          %(epoch+1, epoch_training_loss, epoch_training_accuracy, val_loss, val_accuracy   ))\n",
    "            \n",
    "\n"
   ]
  },
  {
   "cell_type": "markdown",
   "metadata": {},
   "source": [
    "As we might expect, logistic regression does not work well in identifying percolation. The concept is too complicated. We need a more complex network. \n",
    "\n",
    "From now on it is up to you to design a range of network architectures, and see how well they do on this apparently simple problem. "
   ]
  },
  {
   "cell_type": "markdown",
   "metadata": {},
   "source": [
    "You can try numbers of hidden units ranging from 10 to 1000; you can try multiple layers (but with less than 100 neurons per layer - connecting a layer with 1000 neurons to another with 1000 neurons needs a million weights, which is too many for the CPU to handle in a reasonable time.)"
   ]
  },
  {
   "cell_type": "markdown",
   "metadata": {},
   "source": [
    "When you define a larger model, start off with a small number of epochs - 2,say! you can then figure out how long a longer training will take. "
   ]
  },
  {
   "cell_type": "markdown",
   "metadata": {},
   "source": [
    "See below for how to examine the structure of the history, and to plot curves of loss and accuracy during training for both the training and validation data. "
   ]
  },
  {
   "cell_type": "code",
   "execution_count": 39,
   "metadata": {},
   "outputs": [],
   "source": [
    "# a nn with one hidden layer\n",
    "class NN_one_hidden( nn.Module ):\n",
    "    \n",
    "    def __init__(self): \n",
    "        super(NN_one_hidden, self).__init__()\n",
    "        self.layers = nn.Sequential( \n",
    "            nn.Flatten(), \n",
    "            nn.Linear(64,100), # try 100 hidden neurons\n",
    "            nn.ReLU(),      # note that we need the brackets after nn.ReLU() and nn.Sigmoid(), because these \n",
    "                            # are classes that need to be instantiated\n",
    "            nn.Linear(100,1),\n",
    "            nn.Sigmoid())  # we are predicting only two classes, so we can use one sigmoid neuron as output\n",
    "    \n",
    "    def forward( self, x ): # computes the forward pass ... this one is particularly simple\n",
    "        x = self.layers( x )\n",
    "        return x"
   ]
  },
  {
   "cell_type": "code",
   "execution_count": 38,
   "metadata": {},
   "outputs": [],
   "source": [
    "class NN_two_hidden( nn.Module ):\n",
    "    \n",
    "    def __init__(self): \n",
    "        super(NN_two_hidden, self).__init__()\n",
    "        self.layers = nn.Sequential( \n",
    "            nn.Flatten(), \n",
    "            nn.Linear(64,100), # try 100 hidden neurons\n",
    "            nn.ReLU(),      # note that we need the brackets after nn.ReLU() and nn.Sigmoid(), because these \n",
    "                            # are classes that need to be instantiated\n",
    "            nn.Linear(100,100),\n",
    "            nn.ReLU(),\n",
    "            nn.Linear(100, 1),\n",
    "            nn.Sigmoid())  # we are predicting only two classes, so we can use one sigmoid neuron as output\n",
    "    \n",
    "    def forward( self, x ): # computes the forward pass ... this one is particularly simple\n",
    "        x = self.layers( x )\n",
    "        return x"
   ]
  },
  {
   "cell_type": "markdown",
   "metadata": {},
   "source": [
    "You will be defining many NN architectures (hopefully) so here is an encapsulation of the NN training cycle in a function. \n",
    "\n",
    "Experienced Python programmers may do it better than this..."
   ]
  },
  {
   "cell_type": "code",
   "execution_count": 40,
   "metadata": {},
   "outputs": [],
   "source": [
    "# this function takes a neural-net class as argument, \n",
    "# together with the number of epochs, datasets, and batch-size\n",
    "# I have written it like this to make sure you remember to initialise a new NN \n",
    "# (However you can redefine it to take a pre-initialised NN, so that you can repeatedly \n",
    "# train a NN with the same weights, as often as you want. )\n",
    "\n",
    "\n",
    "\n",
    "def define_and_train( NN_class, n_epochs, training_set, test_set, batch_size=32, weight_decay=0.0 ):\n",
    "    \n",
    "    trainloader = torch.utils.data.DataLoader( training_set, batch_size=batch_size, shuffle=True)\n",
    "    testloader = torch.utils.data.DataLoader( test_set, batch_size=batch_size, shuffle=True)\n",
    "\n",
    "    thenet = NN_class()\n",
    "    optimizer1 = optim.Adam( thenet.parameters(), weight_decay=weight_decay )\n",
    "    \n",
    "    train_acc = []\n",
    "    val_acc = []\n",
    "    train_loss = []\n",
    "    val_loss = []\n",
    "    \n",
    "    for epoch in range(n_epochs): # number of times to loop over the dataset\n",
    "        \n",
    "        total_loss = 0 \n",
    "        total_correct = 0 \n",
    "        total_examples = 0 \n",
    "        n_mini_batches = 0\n",
    "    \n",
    "        for i, mini_batch in enumerate( trainloader, 0 ):\n",
    "            images, labels = mini_batch\n",
    "\n",
    "            # zero the parameter gradients\n",
    "            # all the parameters that are being updated are in the optimizer, \n",
    "            # so if we zero the gradients of all the tensors in the optimizer, \n",
    "            # that is the safest way to zero all the gradients\n",
    "            optimizer1.zero_grad()\n",
    "\n",
    "            outputs = thenet(images) # this is the forward pass\n",
    "\n",
    "            loss = loss_function ( outputs, labels )\n",
    "\n",
    "            loss.backward() # does the backward pass and computes all gradients\n",
    "\n",
    "            optimizer1.step() # does one optimisation step\n",
    "\n",
    "            n_mini_batches += 1 # keep track of number of minibatches, and collect the loss for each minibatch\n",
    "            total_loss += loss.item() # remember that the loss is a zero-order tensor\n",
    "            # so that to extract its value, we use .item(), as we cannot index as there are no dimensions\n",
    "\n",
    "            # keep track of number of examples, and collect number correct in each minibatch\n",
    "            total_correct += sum( ( outputs > 0.5 ) == ( labels > 0.5 ) ).item()\n",
    "            total_examples += len( labels )\n",
    "\n",
    "        # calculate statistics for each epoch and print them. \n",
    "        # You can alter this code to accumulate these statistics into lists/vectors and plot them\n",
    "        epoch_training_accuracy = total_correct / total_examples\n",
    "        epoch_training_loss = total_loss / n_mini_batches\n",
    "\n",
    "        epoch_val_accuracy, epoch_val_loss = accuracy_and_loss( thenet, loss_function, testloader )\n",
    "\n",
    "        print('Epoch %d loss: %.3f acc: %.3f val_loss: %.3f val_acc: %.3f'\n",
    "              %(epoch+1, epoch_training_loss, epoch_training_accuracy, epoch_val_loss, epoch_val_accuracy   ))\n",
    "        \n",
    "        train_loss.append( epoch_training_loss )\n",
    "        train_acc.append( epoch_training_accuracy )\n",
    "        val_loss.append( epoch_val_loss )\n",
    "        val_acc.append( epoch_val_accuracy )\n",
    "    \n",
    "    history = { 'train_loss': train_loss, \n",
    "                'train_acc': train_acc, \n",
    "                'val_loss': val_loss,\n",
    "                'val_acc': val_acc }\n",
    "    return ( history, thenet ) \n"
   ]
  },
  {
   "cell_type": "code",
   "execution_count": 41,
   "metadata": {},
   "outputs": [],
   "source": [
    "big_training_set = make_percolation_dataset( n_examples=10000 )"
   ]
  },
  {
   "cell_type": "code",
   "execution_count": 47,
   "metadata": {},
   "outputs": [
    {
     "name": "stdout",
     "output_type": "stream",
     "text": [
      "Epoch 1 loss: 0.693 acc: 0.501 val_loss: 0.693 val_acc: 0.490\n",
      "Epoch 2 loss: 0.692 acc: 0.521 val_loss: 0.693 val_acc: 0.490\n",
      "Epoch 3 loss: 0.691 acc: 0.524 val_loss: 0.689 val_acc: 0.601\n",
      "Epoch 4 loss: 0.688 acc: 0.532 val_loss: 0.686 val_acc: 0.581\n",
      "Epoch 5 loss: 0.678 acc: 0.587 val_loss: 0.671 val_acc: 0.590\n",
      "Epoch 6 loss: 0.664 acc: 0.588 val_loss: 0.666 val_acc: 0.582\n",
      "Epoch 7 loss: 0.638 acc: 0.651 val_loss: 0.625 val_acc: 0.635\n",
      "Epoch 8 loss: 0.601 acc: 0.680 val_loss: 0.588 val_acc: 0.675\n",
      "Epoch 9 loss: 0.587 acc: 0.697 val_loss: 0.588 val_acc: 0.689\n",
      "Epoch 10 loss: 0.560 acc: 0.718 val_loss: 0.547 val_acc: 0.720\n",
      "Epoch 11 loss: 0.537 acc: 0.714 val_loss: 0.554 val_acc: 0.721\n",
      "Epoch 12 loss: 0.542 acc: 0.731 val_loss: 0.554 val_acc: 0.707\n",
      "Epoch 13 loss: 0.535 acc: 0.742 val_loss: 0.537 val_acc: 0.729\n",
      "Epoch 14 loss: 0.532 acc: 0.735 val_loss: 0.522 val_acc: 0.726\n",
      "Epoch 15 loss: 0.526 acc: 0.739 val_loss: 0.517 val_acc: 0.743\n",
      "Epoch 16 loss: 0.524 acc: 0.736 val_loss: 0.550 val_acc: 0.721\n",
      "Epoch 17 loss: 0.503 acc: 0.740 val_loss: 0.552 val_acc: 0.719\n",
      "Epoch 18 loss: 0.509 acc: 0.747 val_loss: 0.510 val_acc: 0.742\n",
      "Epoch 19 loss: 0.489 acc: 0.765 val_loss: 0.516 val_acc: 0.732\n",
      "Epoch 20 loss: 0.490 acc: 0.761 val_loss: 0.511 val_acc: 0.747\n",
      "Epoch 21 loss: 0.482 acc: 0.760 val_loss: 0.507 val_acc: 0.738\n",
      "Epoch 22 loss: 0.490 acc: 0.756 val_loss: 0.618 val_acc: 0.685\n",
      "Epoch 23 loss: 0.487 acc: 0.767 val_loss: 0.503 val_acc: 0.747\n",
      "Epoch 24 loss: 0.463 acc: 0.783 val_loss: 0.493 val_acc: 0.750\n",
      "Epoch 25 loss: 0.468 acc: 0.769 val_loss: 0.494 val_acc: 0.744\n",
      "Epoch 26 loss: 0.465 acc: 0.790 val_loss: 0.496 val_acc: 0.758\n",
      "Epoch 27 loss: 0.459 acc: 0.781 val_loss: 0.493 val_acc: 0.753\n",
      "Epoch 28 loss: 0.435 acc: 0.783 val_loss: 0.492 val_acc: 0.753\n",
      "Epoch 29 loss: 0.445 acc: 0.790 val_loss: 0.592 val_acc: 0.710\n",
      "Epoch 30 loss: 0.472 acc: 0.765 val_loss: 0.499 val_acc: 0.750\n",
      "Epoch 31 loss: 0.458 acc: 0.777 val_loss: 0.501 val_acc: 0.750\n",
      "Epoch 32 loss: 0.419 acc: 0.795 val_loss: 0.489 val_acc: 0.757\n",
      "Epoch 33 loss: 0.431 acc: 0.802 val_loss: 0.479 val_acc: 0.761\n",
      "Epoch 34 loss: 0.417 acc: 0.803 val_loss: 0.495 val_acc: 0.752\n",
      "Epoch 35 loss: 0.406 acc: 0.815 val_loss: 0.526 val_acc: 0.747\n",
      "Epoch 36 loss: 0.414 acc: 0.814 val_loss: 0.488 val_acc: 0.769\n",
      "Epoch 37 loss: 0.394 acc: 0.825 val_loss: 0.473 val_acc: 0.763\n",
      "Epoch 38 loss: 0.388 acc: 0.827 val_loss: 0.489 val_acc: 0.759\n",
      "Epoch 39 loss: 0.386 acc: 0.839 val_loss: 0.462 val_acc: 0.772\n",
      "Epoch 40 loss: 0.396 acc: 0.825 val_loss: 0.470 val_acc: 0.774\n",
      "Epoch 41 loss: 0.375 acc: 0.838 val_loss: 0.475 val_acc: 0.772\n",
      "Epoch 42 loss: 0.369 acc: 0.840 val_loss: 0.502 val_acc: 0.758\n",
      "Epoch 43 loss: 0.366 acc: 0.840 val_loss: 0.467 val_acc: 0.778\n",
      "Epoch 44 loss: 0.375 acc: 0.834 val_loss: 0.466 val_acc: 0.779\n",
      "Epoch 45 loss: 0.345 acc: 0.848 val_loss: 0.465 val_acc: 0.776\n",
      "Epoch 46 loss: 0.349 acc: 0.843 val_loss: 0.473 val_acc: 0.768\n",
      "Epoch 47 loss: 0.357 acc: 0.846 val_loss: 0.470 val_acc: 0.770\n",
      "Epoch 48 loss: 0.330 acc: 0.868 val_loss: 0.476 val_acc: 0.770\n",
      "Epoch 49 loss: 0.329 acc: 0.858 val_loss: 0.457 val_acc: 0.778\n",
      "Epoch 50 loss: 0.319 acc: 0.858 val_loss: 0.475 val_acc: 0.776\n",
      "Epoch 51 loss: 0.306 acc: 0.859 val_loss: 0.456 val_acc: 0.781\n",
      "Epoch 52 loss: 0.313 acc: 0.856 val_loss: 0.462 val_acc: 0.782\n",
      "Epoch 53 loss: 0.293 acc: 0.871 val_loss: 0.480 val_acc: 0.774\n",
      "Epoch 54 loss: 0.295 acc: 0.872 val_loss: 0.465 val_acc: 0.780\n",
      "Epoch 55 loss: 0.297 acc: 0.867 val_loss: 0.470 val_acc: 0.777\n",
      "Epoch 56 loss: 0.282 acc: 0.876 val_loss: 0.548 val_acc: 0.753\n",
      "Epoch 57 loss: 0.276 acc: 0.883 val_loss: 0.475 val_acc: 0.781\n",
      "Epoch 58 loss: 0.271 acc: 0.884 val_loss: 0.479 val_acc: 0.788\n",
      "Epoch 59 loss: 0.260 acc: 0.890 val_loss: 0.488 val_acc: 0.785\n",
      "Epoch 60 loss: 0.291 acc: 0.869 val_loss: 0.459 val_acc: 0.784\n",
      "Epoch 61 loss: 0.257 acc: 0.895 val_loss: 0.499 val_acc: 0.770\n",
      "Epoch 62 loss: 0.250 acc: 0.889 val_loss: 0.466 val_acc: 0.785\n",
      "Epoch 63 loss: 0.254 acc: 0.898 val_loss: 0.556 val_acc: 0.770\n",
      "Epoch 64 loss: 0.244 acc: 0.902 val_loss: 0.502 val_acc: 0.775\n",
      "Epoch 65 loss: 0.252 acc: 0.892 val_loss: 0.502 val_acc: 0.777\n",
      "Epoch 66 loss: 0.244 acc: 0.900 val_loss: 0.468 val_acc: 0.791\n",
      "Epoch 67 loss: 0.224 acc: 0.910 val_loss: 0.487 val_acc: 0.789\n",
      "Epoch 68 loss: 0.226 acc: 0.907 val_loss: 0.585 val_acc: 0.770\n",
      "Epoch 69 loss: 0.232 acc: 0.910 val_loss: 0.517 val_acc: 0.775\n",
      "Epoch 70 loss: 0.211 acc: 0.912 val_loss: 0.580 val_acc: 0.763\n",
      "Epoch 71 loss: 0.261 acc: 0.887 val_loss: 0.476 val_acc: 0.787\n",
      "Epoch 72 loss: 0.214 acc: 0.915 val_loss: 0.649 val_acc: 0.731\n",
      "Epoch 73 loss: 0.230 acc: 0.906 val_loss: 0.485 val_acc: 0.790\n",
      "Epoch 74 loss: 0.201 acc: 0.917 val_loss: 0.498 val_acc: 0.787\n",
      "Epoch 75 loss: 0.188 acc: 0.928 val_loss: 0.500 val_acc: 0.784\n",
      "Epoch 76 loss: 0.180 acc: 0.934 val_loss: 0.598 val_acc: 0.768\n",
      "Epoch 77 loss: 0.201 acc: 0.919 val_loss: 0.740 val_acc: 0.730\n",
      "Epoch 78 loss: 0.239 acc: 0.897 val_loss: 0.504 val_acc: 0.787\n",
      "Epoch 79 loss: 0.182 acc: 0.920 val_loss: 0.506 val_acc: 0.785\n",
      "Epoch 80 loss: 0.190 acc: 0.922 val_loss: 0.527 val_acc: 0.780\n",
      "Epoch 81 loss: 0.170 acc: 0.938 val_loss: 0.529 val_acc: 0.785\n",
      "Epoch 82 loss: 0.168 acc: 0.933 val_loss: 0.529 val_acc: 0.792\n",
      "Epoch 83 loss: 0.156 acc: 0.949 val_loss: 0.715 val_acc: 0.748\n",
      "Epoch 84 loss: 0.201 acc: 0.917 val_loss: 0.563 val_acc: 0.783\n",
      "Epoch 85 loss: 0.165 acc: 0.934 val_loss: 0.516 val_acc: 0.783\n",
      "Epoch 86 loss: 0.145 acc: 0.950 val_loss: 0.538 val_acc: 0.785\n",
      "Epoch 87 loss: 0.138 acc: 0.947 val_loss: 0.543 val_acc: 0.786\n",
      "Epoch 88 loss: 0.145 acc: 0.946 val_loss: 0.615 val_acc: 0.779\n",
      "Epoch 89 loss: 0.148 acc: 0.939 val_loss: 0.592 val_acc: 0.784\n",
      "Epoch 90 loss: 0.150 acc: 0.940 val_loss: 0.613 val_acc: 0.775\n",
      "Epoch 91 loss: 0.136 acc: 0.956 val_loss: 0.565 val_acc: 0.794\n",
      "Epoch 92 loss: 0.141 acc: 0.944 val_loss: 0.572 val_acc: 0.792\n",
      "Epoch 93 loss: 0.128 acc: 0.951 val_loss: 0.548 val_acc: 0.788\n",
      "Epoch 94 loss: 0.127 acc: 0.948 val_loss: 0.568 val_acc: 0.793\n",
      "Epoch 95 loss: 0.114 acc: 0.962 val_loss: 0.585 val_acc: 0.797\n",
      "Epoch 96 loss: 0.115 acc: 0.958 val_loss: 0.707 val_acc: 0.766\n",
      "Epoch 97 loss: 0.143 acc: 0.944 val_loss: 0.575 val_acc: 0.792\n",
      "Epoch 98 loss: 0.111 acc: 0.966 val_loss: 0.608 val_acc: 0.780\n",
      "Epoch 99 loss: 0.107 acc: 0.965 val_loss: 0.598 val_acc: 0.789\n",
      "Epoch 100 loss: 0.094 acc: 0.965 val_loss: 0.607 val_acc: 0.790\n"
     ]
    }
   ],
   "source": [
    "history, net = define_and_train( NN1, 100, training_set, test_set, batch_size=32, weight_decay=0.0000 )"
   ]
  },
  {
   "cell_type": "code",
   "execution_count": 48,
   "metadata": {},
   "outputs": [
    {
     "data": {
      "text/plain": [
       "[<matplotlib.lines.Line2D at 0x1fe4fa4a9a0>]"
      ]
     },
     "execution_count": 48,
     "metadata": {},
     "output_type": "execute_result"
    },
    {
     "data": {
      "image/png": "[encoded data removed]",
      "text/plain": [
       "<Figure size 432x288 with 1 Axes>"
      ]
     },
     "metadata": {
      "needs_background": "light"
     },
     "output_type": "display_data"
    }
   ],
   "source": [
    "plt.plot( history['train_loss'], label='train_loss')\n",
    "plt.plot( history['val_loss'], label='val_loss')\n"
   ]
  },
  {
   "cell_type": "code",
   "execution_count": 49,
   "metadata": {},
   "outputs": [
    {
     "data": {
      "text/plain": [
       "[<matplotlib.lines.Line2D at 0x1fe51ae9a60>]"
      ]
     },
     "execution_count": 49,
     "metadata": {},
     "output_type": "execute_result"
    },
    {
     "data": {
      "image/png": "[encoded data removed]",
      "text/plain": [
       "<Figure size 432x288 with 1 Axes>"
      ]
     },
     "metadata": {
      "needs_background": "light"
     },
     "output_type": "display_data"
    }
   ],
   "source": [
    "plt.plot( history['train_acc'], label='train_acc')\n",
    "plt.plot( history['val_acc'], label='val_acc')"
   ]
  },
  {
   "cell_type": "markdown",
   "metadata": {},
   "source": [
    "### A convolutional model for detecting percolation\n",
    "\n",
    "Since percolation depends on local properties of the image, a better strategy may be to used a convolutional model, like the one defined below. \n",
    "\n",
    "After some messing about, I found that the model defined has reasonable (but not perfect) performance.  Please try to find a better one ! I was a little disappointed that I found that max-pooling layers seemed to slightly reduce performance, but you might find differently.  \n",
    "\n",
    "Perhaps some 1x1 convolutions might improve performance?  I haven't tried them. \n",
    "\n",
    "Your challenge is to try this model out, and then to do some experiments. (To do experiments, you will need to be tidy: I suggest  \n",
    "\n",
    "* For a small training set size (say 1000) examine the effect of different types and levels of regularisation. Try putting in `l1` and `l2` regularisation, and dropout (try each separately). \n",
    "    When adding `l1` or `l2` regularisation, a reasonable amount to add is in the region of \n",
    "    0.00001 to 0.001 .  Larger amounts of regularisation will just force all the weights towards zero. \n",
    "\n",
    "* How does validation error vary with training set size?  This is an important question!  Plot  log validation error versus  log training set size, in the range from 100 to 32000 (or 100000 if you have the time)  Plot a log-log graph, and see if you can identify a power law, visible as a straight(ish) line on the graph.  \n",
    "\n"
   ]
  },
  {
   "cell_type": "markdown",
   "metadata": {},
   "source": [
    "### Constructing a convolutional model in Pytorch"
   ]
  },
  {
   "cell_type": "markdown",
   "metadata": {},
   "source": [
    "We need to keep track of the sizes of the tensors as we build a convolutional net.\n",
    "\n",
    "One easy way to do this is to evaluate part of the network, using zeros as inputs, and look at the shape of the resulting tensor. "
   ]
  },
  {
   "cell_type": "code",
   "execution_count": 121,
   "metadata": {},
   "outputs": [
    {
     "data": {
      "text/plain": [
       "torch.Size([1, 2, 8, 8])"
      ]
     },
     "execution_count": 121,
     "metadata": {},
     "output_type": "execute_result"
    }
   ],
   "source": [
    "nn.Sequential( \n",
    "            nn.Conv2d(1,12,3,padding=1),\n",
    "            nn.ReLU(), \n",
    "            nn.Conv2d(12,12,3,padding=1),\n",
    "            nn.ReLU(),\n",
    "            nn.Conv2d(12,2,3,padding=1), # idea: hopefully these will be connected to left edge, connected to right edge\n",
    "            nn.ReLU() )( torch.zeros(1,1,8,8)).shape"
   ]
  },
  {
   "cell_type": "code",
   "execution_count": 94,
   "metadata": {},
   "outputs": [
    {
     "data": {
      "text/plain": [
       "torch.Size([1, 12, 8, 8])"
      ]
     },
     "execution_count": 94,
     "metadata": {},
     "output_type": "execute_result"
    }
   ],
   "source": [
    "nn.Sequential( nn.Conv2d(1,12,3,padding=1), nn.ReLU() )( torch.zeros(1,1,8,8)).shape"
   ]
  },
  {
   "cell_type": "code",
   "execution_count": 46,
   "metadata": {},
   "outputs": [],
   "source": [
    "class NN_convolutional1( nn.Module ):\n",
    "    \n",
    "    def __init__(self): \n",
    "        super(NN_convolutional1, self).__init__()\n",
    "        self.layers = nn.Sequential( \n",
    "            nn.Conv2d(1,12,3,padding=1),\n",
    "            nn.ReLU(), \n",
    "            nn.Conv2d(12,12,3,padding=1),\n",
    "            nn.ReLU(),\n",
    "            nn.Conv2d(12,2,3,padding=1), # idea: hopefully these will be connected to left edge, connected to right edge\n",
    "            nn.ReLU(),\n",
    "            nn.Flatten(),\n",
    "            nn.Linear(128,12), # the 128 here is the number of elements in the tensor computed so far\n",
    "            nn.ReLU(), \n",
    "            nn.Linear(12,1),\n",
    "            nn.Sigmoid())  # we are predicting only two classes, so we can use one sigmoid neuron as output\n",
    "    \n",
    "    def forward( self, x ): # computes the forward pass ... this one is particularly simple\n",
    "        x = self.layers( x )\n",
    "        return x"
   ]
  },
  {
   "cell_type": "code",
   "execution_count": 122,
   "metadata": {},
   "outputs": [
    {
     "name": "stdout",
     "output_type": "stream",
     "text": [
      "NN_convolutional1(\n",
      "  (layers): Sequential(\n",
      "    (0): Conv2d(1, 12, kernel_size=(3, 3), stride=(1, 1), padding=(1, 1))\n",
      "    (1): ReLU()\n",
      "    (2): Conv2d(12, 12, kernel_size=(3, 3), stride=(1, 1), padding=(1, 1))\n",
      "    (3): ReLU()\n",
      "    (4): Conv2d(12, 2, kernel_size=(3, 3), stride=(1, 1), padding=(1, 1))\n",
      "    (5): ReLU()\n",
      "    (6): Flatten(start_dim=1, end_dim=-1)\n",
      "    (7): Linear(in_features=128, out_features=12, bias=True)\n",
      "    (8): ReLU()\n",
      "    (9): Linear(in_features=12, out_features=1, bias=True)\n",
      "    (10): Sigmoid()\n",
      "  )\n",
      ")\n"
     ]
    }
   ],
   "source": [
    "print( NN_convolutional1() )"
   ]
  },
  {
   "cell_type": "markdown",
   "metadata": {},
   "source": [
    "# The Golden Rules of Model Search\n",
    "\n",
    "Step 1: what error rate do you expect a good model to have?  (It may be zero, or there may be some residual error rate - perhaps even humans do not perform perfectly.) Call this error rate the *ideal error rate*\n",
    "\n",
    "Step 2: define and fit a model and examine the training and validation errors. \n",
    "\n",
    "Step 3a: If the model does not fit the training set well, then the model does not have enough capacity (flexibility).  Add more complexity in some way  - more neurons, more layers. It is of course best to do this in an insightful way !  Go to step 2. \n",
    "\n",
    "Step 3b: If the model *does* fit the training set well, but there is higher error on the validation set, then the model is overfitted. Do either (or both)  of: \n",
    "\n",
    "    * Use more training data\n",
    "    \n",
    "    * Add more regularisation to the model (in an insightful way). \n",
    "    \n",
    "Go to step 2. \n",
    "\n",
    "\n",
    "These golden rules are not very specific, but they are a lot better than simply making random changes to the model and hoping that it gets better. \n",
    "\n"
   ]
  },
  {
   "cell_type": "markdown",
   "metadata": {},
   "source": [
    "### Power law for convolutional model "
   ]
  },
  {
   "cell_type": "code",
   "execution_count": null,
   "metadata": {},
   "outputs": [],
   "source": [
    "# actually plot the training set size vs validation error\n",
    "# these are actual error-rates with a previous (more complex) convolutional model\n",
    "plt.loglog([1000,2000,4000,8000,16000], [0.0636,0.0330,0.0130,0.006,0.0046])"
   ]
  },
  {
   "cell_type": "markdown",
   "metadata": {},
   "source": [
    "# Inspection of errors"
   ]
  },
  {
   "cell_type": "markdown",
   "metadata": {},
   "source": [
    " Exercise: find the errors on the training and validation sets, and inspect them.\n",
    " \n",
    " Can you say anything useful about what your net is doing wrong? \n",
    "\n",
    " I found that the false-negatives -- the percolating examples that the net thought did not percolate -- tended to have long percolating paths, as one might expect. \n",
    " \n",
    " But I could not see any regularities in the false-positive -- the non-percolating examples that the net thought would percolate -- at all. "
   ]
  },
  {
   "cell_type": "markdown",
   "metadata": {},
   "source": [
    "# Test examples for percolation\n"
   ]
  },
  {
   "cell_type": "markdown",
   "metadata": {},
   "source": [
    "This is a test-set of some specially constructed examples that are designed to be 'corner cases' on which to test your network. "
   ]
  },
  {
   "cell_type": "code",
   "execution_count": 163,
   "metadata": {},
   "outputs": [
    {
     "data": {
      "text/plain": [
       "<matplotlib.colorbar.Colorbar at 0x1bd885e1250>"
      ]
     },
     "execution_count": 163,
     "metadata": {},
     "output_type": "execute_result"
    },
    {
     "data": {
      "image/png": "[encoded data removed]",
      "text/plain": [
       "<Figure size 432x288 with 2 Axes>"
      ]
     },
     "metadata": {
      "needs_background": "light"
     },
     "output_type": "display_data"
    }
   ],
   "source": [
    "test_all_zeros = np.zeros([8,8])\n",
    "plt.imshow(test_all_zeros)\n",
    "plt.colorbar()"
   ]
  },
  {
   "cell_type": "code",
   "execution_count": 164,
   "metadata": {},
   "outputs": [
    {
     "data": {
      "text/plain": [
       "<matplotlib.colorbar.Colorbar at 0x1bd88622d30>"
      ]
     },
     "execution_count": 164,
     "metadata": {},
     "output_type": "execute_result"
    },
    {
     "data": {
      "image/png": "[encoded data removed]",
      "text/plain": [
       "<Figure size 432x288 with 2 Axes>"
      ]
     },
     "metadata": {
      "needs_background": "light"
     },
     "output_type": "display_data"
    }
   ],
   "source": [
    "test_all_ones = np.ones([8,8])\n",
    "plt.imshow(test_all_ones)\n",
    "plt.colorbar()"
   ]
  },
  {
   "cell_type": "code",
   "execution_count": 143,
   "metadata": {},
   "outputs": [
    {
     "data": {
      "text/plain": [
       "<matplotlib.colorbar.Colorbar at 0x1bdfbac3940>"
      ]
     },
     "execution_count": 143,
     "metadata": {},
     "output_type": "execute_result"
    },
    {
     "data": {
      "image/png": "[encoded data removed]",
      "text/plain": [
       "<Figure size 432x288 with 2 Axes>"
      ]
     },
     "metadata": {
      "needs_background": "light"
     },
     "output_type": "display_data"
    }
   ],
   "source": [
    "test_eye = np.eye(8) # this should be an easy example\n",
    "plt.imshow(test_eye)\n",
    "plt.colorbar()"
   ]
  },
  {
   "cell_type": "code",
   "execution_count": 144,
   "metadata": {},
   "outputs": [
    {
     "data": {
      "text/plain": [
       "<matplotlib.image.AxesImage at 0x1bd87fa23d0>"
      ]
     },
     "execution_count": 144,
     "metadata": {},
     "output_type": "execute_result"
    },
    {
     "data": {
      "image/png": "[encoded data removed]",
      "text/plain": [
       "<Figure size 432x288 with 1 Axes>"
      ]
     },
     "metadata": {
      "needs_background": "light"
     },
     "output_type": "display_data"
    }
   ],
   "source": [
    "test_inverse_eye = 1 - np.eye(8)\n",
    "plt.imshow( test_inverse_eye )"
   ]
  },
  {
   "cell_type": "code",
   "execution_count": 145,
   "metadata": {},
   "outputs": [
    {
     "data": {
      "text/plain": [
       "<matplotlib.image.AxesImage at 0x1bd88073ac0>"
      ]
     },
     "execution_count": 145,
     "metadata": {},
     "output_type": "execute_result"
    },
    {
     "data": {
      "image/png": "[encoded data removed]",
      "text/plain": [
       "<Figure size 432x288 with 1 Axes>"
      ]
     },
     "metadata": {
      "needs_background": "light"
     },
     "output_type": "display_data"
    }
   ],
   "source": [
    "test_inverse_eye_connected = 1 - np.eye(8)\n",
    "test_inverse_eye_connected[4,4] = 1\n",
    "plt.imshow( test_inverse_eye_connected )"
   ]
  },
  {
   "cell_type": "code",
   "execution_count": 146,
   "metadata": {},
   "outputs": [
    {
     "data": {
      "text/plain": [
       "<matplotlib.image.AxesImage at 0x1bd87fca4c0>"
      ]
     },
     "execution_count": 146,
     "metadata": {},
     "output_type": "execute_result"
    },
    {
     "data": {
      "image/png": "[encoded data removed]",
      "text/plain": [
       "<Figure size 432x288 with 1 Axes>"
      ]
     },
     "metadata": {
      "needs_background": "light"
     },
     "output_type": "display_data"
    }
   ],
   "source": [
    "test_inverse_eye_connected_bottom = 1 - np.eye(8)\n",
    "test_inverse_eye_connected_bottom[7,7] = 1\n",
    "plt.imshow( test_inverse_eye_connected_bottom )"
   ]
  },
  {
   "cell_type": "code",
   "execution_count": 147,
   "metadata": {},
   "outputs": [
    {
     "data": {
      "text/plain": [
       "<matplotlib.image.AxesImage at 0x1bd881060d0>"
      ]
     },
     "execution_count": 147,
     "metadata": {},
     "output_type": "execute_result"
    },
    {
     "data": {
      "image/png": "[encoded data removed]",
      "text/plain": [
       "<Figure size 432x288 with 1 Axes>"
      ]
     },
     "metadata": {
      "needs_background": "light"
     },
     "output_type": "display_data"
    }
   ],
   "source": [
    "test_inverse_eye_connected_top = 1 - np.eye(8)\n",
    "test_inverse_eye_connected_top[0,0] = 1\n",
    "plt.imshow( test_inverse_eye_connected_top )"
   ]
  },
  {
   "cell_type": "code",
   "execution_count": 148,
   "metadata": {},
   "outputs": [
    {
     "data": {
      "text/plain": [
       "<matplotlib.image.AxesImage at 0x1bd8815c550>"
      ]
     },
     "execution_count": 148,
     "metadata": {},
     "output_type": "execute_result"
    },
    {
     "data": {
      "image/png": "[encoded data removed]",
      "text/plain": [
       "<Figure size 432x288 with 1 Axes>"
      ]
     },
     "metadata": {
      "needs_background": "light"
     },
     "output_type": "display_data"
    }
   ],
   "source": [
    "test_middle_row = np.zeros([8,8])\n",
    "test_middle_row[3,:] = 1\n",
    "plt.imshow(test_middle_row)"
   ]
  },
  {
   "cell_type": "code",
   "execution_count": 149,
   "metadata": {},
   "outputs": [
    {
     "data": {
      "text/plain": [
       "<matplotlib.image.AxesImage at 0x1bd881b3a30>"
      ]
     },
     "execution_count": 149,
     "metadata": {},
     "output_type": "execute_result"
    },
    {
     "data": {
      "image/png": "[encoded data removed]",
      "text/plain": [
       "<Figure size 432x288 with 1 Axes>"
      ]
     },
     "metadata": {
      "needs_background": "light"
     },
     "output_type": "display_data"
    }
   ],
   "source": [
    "test_top_row = np.zeros([8,8])\n",
    "test_top_row[0,:] = 1\n",
    "plt.imshow(test_top_row)"
   ]
  },
  {
   "cell_type": "code",
   "execution_count": 150,
   "metadata": {},
   "outputs": [
    {
     "data": {
      "text/plain": [
       "<matplotlib.image.AxesImage at 0x1bd8820be50>"
      ]
     },
     "execution_count": 150,
     "metadata": {},
     "output_type": "execute_result"
    },
    {
     "data": {
      "image/png": "[encoded data removed]",
      "text/plain": [
       "<Figure size 432x288 with 1 Axes>"
      ]
     },
     "metadata": {
      "needs_background": "light"
     },
     "output_type": "display_data"
    }
   ],
   "source": [
    "test_bottom_row = np.zeros([8,8])\n",
    "test_bottom_row[-1,:] = 1\n",
    "plt.imshow(test_bottom_row)"
   ]
  },
  {
   "cell_type": "code",
   "execution_count": 160,
   "metadata": {},
   "outputs": [
    {
     "data": {
      "text/plain": [
       "<matplotlib.image.AxesImage at 0x1bd8854d5e0>"
      ]
     },
     "execution_count": 160,
     "metadata": {},
     "output_type": "execute_result"
    },
    {
     "data": {
      "image/png": "[encoded data removed]",
      "text/plain": [
       "<Figure size 432x288 with 1 Axes>"
      ]
     },
     "metadata": {
      "needs_background": "light"
     },
     "output_type": "display_data"
    }
   ],
   "source": [
    "test_vertical_column_disconnect = np.ones([8,8])\n",
    "test_vertical_column_disconnect[:,4] = 0 \n",
    "plt.imshow(test_vertical_column_disconnect)"
   ]
  },
  {
   "cell_type": "code",
   "execution_count": 151,
   "metadata": {},
   "outputs": [
    {
     "data": {
      "text/plain": [
       "<matplotlib.image.AxesImage at 0x1bd88270460>"
      ]
     },
     "execution_count": 151,
     "metadata": {},
     "output_type": "execute_result"
    },
    {
     "data": {
      "image/png": "[encoded data removed]",
      "text/plain": [
       "<Figure size 432x288 with 1 Axes>"
      ]
     },
     "metadata": {
      "needs_background": "light"
     },
     "output_type": "display_data"
    }
   ],
   "source": [
    "test_row_with_gap = np.zeros([8,8])\n",
    "test_row_with_gap[3,:] = 1\n",
    "test_row_with_gap[3,4] = 0 \n",
    "plt.imshow(test_row_with_gap)"
   ]
  },
  {
   "cell_type": "code",
   "execution_count": 152,
   "metadata": {},
   "outputs": [
    {
     "data": {
      "text/plain": [
       "<matplotlib.image.AxesImage at 0x1bd882c6970>"
      ]
     },
     "execution_count": 152,
     "metadata": {},
     "output_type": "execute_result"
    },
    {
     "data": {
      "image/png": "[encoded data removed]",
      "text/plain": [
       "<Figure size 432x288 with 1 Axes>"
      ]
     },
     "metadata": {
      "needs_background": "light"
     },
     "output_type": "display_data"
    }
   ],
   "source": [
    "test_two_rows_nearly = np.zeros([8,8])\n",
    "test_two_rows_nearly[2,:7] = 1\n",
    "test_two_rows_nearly[4,1:] = 1\n",
    "plt.imshow(test_two_rows_nearly)"
   ]
  },
  {
   "cell_type": "code",
   "execution_count": 153,
   "metadata": {},
   "outputs": [
    {
     "data": {
      "text/plain": [
       "<matplotlib.image.AxesImage at 0x1bd883292b0>"
      ]
     },
     "execution_count": 153,
     "metadata": {},
     "output_type": "execute_result"
    },
    {
     "data": {
      "image/png": "[encoded data removed]",
      "text/plain": [
       "<Figure size 432x288 with 1 Axes>"
      ]
     },
     "metadata": {
      "needs_background": "light"
     },
     "output_type": "display_data"
    }
   ],
   "source": [
    "test_four_rows_nearly = np.zeros([8,8])\n",
    "test_four_rows_nearly[0,:7] = 1\n",
    "test_four_rows_nearly[2,1:] = 1\n",
    "test_four_rows_nearly[4,:7] = 1\n",
    "test_four_rows_nearly[6,1:] = 1\n",
    "plt.imshow(test_four_rows_nearly)"
   ]
  },
  {
   "cell_type": "code",
   "execution_count": 154,
   "metadata": {},
   "outputs": [
    {
     "data": {
      "text/plain": [
       "<matplotlib.image.AxesImage at 0x1bd88383490>"
      ]
     },
     "execution_count": 154,
     "metadata": {},
     "output_type": "execute_result"
    },
    {
     "data": {
      "image/png": "[encoded data removed]",
      "text/plain": [
       "<Figure size 432x288 with 1 Axes>"
      ]
     },
     "metadata": {
      "needs_background": "light"
     },
     "output_type": "display_data"
    }
   ],
   "source": [
    "test_dog_leg = np.zeros([8,8])\n",
    "test_dog_leg[1,:5] = 1\n",
    "test_dog_leg[2:7,4] = 1\n",
    "test_dog_leg[6,4:] = 1\n",
    "plt.imshow(test_dog_leg)"
   ]
  },
  {
   "cell_type": "code",
   "execution_count": 155,
   "metadata": {},
   "outputs": [
    {
     "data": {
      "text/plain": [
       "<matplotlib.image.AxesImage at 0x1bd883d8be0>"
      ]
     },
     "execution_count": 155,
     "metadata": {},
     "output_type": "execute_result"
    },
    {
     "data": {
      "image/png": "[encoded data removed]",
      "text/plain": [
       "<Figure size 432x288 with 1 Axes>"
      ]
     },
     "metadata": {
      "needs_background": "light"
     },
     "output_type": "display_data"
    }
   ],
   "source": [
    "test_dog_leg_back = np.zeros([8,8])\n",
    "test_dog_leg_back[1,:5] = 1\n",
    "test_dog_leg_back[2:5,4] = 1\n",
    "test_dog_leg_back[4:6,3] = 1\n",
    "test_dog_leg_back[6,3:] = 1\n",
    "plt.imshow(test_dog_leg_back)"
   ]
  },
  {
   "cell_type": "code",
   "execution_count": 156,
   "metadata": {},
   "outputs": [
    {
     "data": {
      "text/plain": [
       "<matplotlib.image.AxesImage at 0x1bd8843e250>"
      ]
     },
     "execution_count": 156,
     "metadata": {},
     "output_type": "execute_result"
    },
    {
     "data": {
      "image/png": "[encoded data removed]",
      "text/plain": [
       "<Figure size 432x288 with 1 Axes>"
      ]
     },
     "metadata": {
      "needs_background": "light"
     },
     "output_type": "display_data"
    }
   ],
   "source": [
    "test_long_path = np.zeros([8,8])\n",
    "test_long_path[1,:7] = 1\n",
    "test_long_path[2:4,6] = 1\n",
    "test_long_path[4,1:7] = 1\n",
    "test_long_path[5:7,1] = 1\n",
    "test_long_path[6,1:] = 1\n",
    "plt.imshow(test_long_path)\n"
   ]
  },
  {
   "cell_type": "code",
   "execution_count": 157,
   "metadata": {},
   "outputs": [
    {
     "data": {
      "text/plain": [
       "<matplotlib.image.AxesImage at 0x1bd8849d100>"
      ]
     },
     "execution_count": 157,
     "metadata": {},
     "output_type": "execute_result"
    },
    {
     "data": {
      "image/png": "[encoded data removed]",
      "text/plain": [
       "<Figure size 432x288 with 1 Axes>"
      ]
     },
     "metadata": {
      "needs_background": "light"
     },
     "output_type": "display_data"
    }
   ],
   "source": [
    "test_longer_path = np.zeros([8,8])\n",
    "test_longer_path[0,:7] = 1\n",
    "test_longer_path[1:3,6] = 1\n",
    "test_longer_path[2,1:7] = 1\n",
    "test_longer_path[3:8,1] = 1\n",
    "test_longer_path[7,2:4] = 1\n",
    "test_longer_path[4:7,3] = 1\n",
    "test_longer_path[4,4:6] = 1\n",
    "test_longer_path[5:8,5] = 1\n",
    "test_longer_path[7,6:8] = 1\n",
    "plt.imshow(test_longer_path)"
   ]
  },
  {
   "cell_type": "code",
   "execution_count": 158,
   "metadata": {},
   "outputs": [
    {
     "data": {
      "text/plain": [
       "<matplotlib.image.AxesImage at 0x1bd884ef790>"
      ]
     },
     "execution_count": 158,
     "metadata": {},
     "output_type": "execute_result"
    },
    {
     "data": {
      "image/png": "[encoded data removed]",
      "text/plain": [
       "<Figure size 432x288 with 1 Axes>"
      ]
     },
     "metadata": {
      "needs_background": "light"
     },
     "output_type": "display_data"
    }
   ],
   "source": [
    "test_vertical_stripes = np.zeros([8,8])\n",
    "test_vertical_stripes[:,1] = 1\n",
    "test_vertical_stripes[:,3] = 1\n",
    "test_vertical_stripes[:,5] = 1\n",
    "test_vertical_stripes[:,7] = 1\n",
    "plt.imshow(test_vertical_stripes)"
   ]
  },
  {
   "cell_type": "code",
   "execution_count": 62,
   "metadata": {},
   "outputs": [
    {
     "data": {
      "text/plain": [
       "<matplotlib.image.AxesImage at 0x1bdfbbe7160>"
      ]
     },
     "execution_count": 62,
     "metadata": {},
     "output_type": "execute_result"
    },
    {
     "data": {
      "image/png": "[encoded data removed]",
      "text/plain": [
       "<Figure size 432x288 with 1 Axes>"
      ]
     },
     "metadata": {
      "needs_background": "light"
     },
     "output_type": "display_data"
    }
   ],
   "source": [
    "test_vertical_stripes_connected_1 = np.zeros([8,8])\n",
    "test_vertical_stripes_connected_1[:,1] = 1\n",
    "test_vertical_stripes_connected_1[:,3] = 1\n",
    "test_vertical_stripes_connected_1[:,5] = 1\n",
    "test_vertical_stripes_connected_1[:,7] = 1\n",
    "test_vertical_stripes_connected_1[7,0] = 1\n",
    "test_vertical_stripes_connected_1[0,2] = 1\n",
    "test_vertical_stripes_connected_1[7,4] = 1\n",
    "test_vertical_stripes_connected_1[0,6] = 1\n",
    "\n",
    "plt.imshow(test_vertical_stripes_connected_1)"
   ]
  },
  {
   "cell_type": "code",
   "execution_count": 63,
   "metadata": {},
   "outputs": [
    {
     "data": {
      "text/plain": [
       "<matplotlib.image.AxesImage at 0x1bdfbc3e5e0>"
      ]
     },
     "execution_count": 63,
     "metadata": {},
     "output_type": "execute_result"
    },
    {
     "data": {
      "image/png": "[encoded data removed]",
      "text/plain": [
       "<Figure size 432x288 with 1 Axes>"
      ]
     },
     "metadata": {
      "needs_background": "light"
     },
     "output_type": "display_data"
    }
   ],
   "source": [
    "test_vertical_stripes_connected_2 = np.zeros([8,8])\n",
    "test_vertical_stripes_connected_2[:,1] = 1\n",
    "test_vertical_stripes_connected_2[:,3] = 1\n",
    "test_vertical_stripes_connected_2[:,5] = 1\n",
    "test_vertical_stripes_connected_2[:,7] = 1\n",
    "test_vertical_stripes_connected_2[6,0] = 1\n",
    "test_vertical_stripes_connected_2[1,2] = 1\n",
    "test_vertical_stripes_connected_2[6,4] = 1\n",
    "test_vertical_stripes_connected_2[1,6] = 1\n",
    "\n",
    "plt.imshow(test_vertical_stripes_connected_2)"
   ]
  },
  {
   "cell_type": "code",
   "execution_count": 64,
   "metadata": {},
   "outputs": [
    {
     "data": {
      "text/plain": [
       "<matplotlib.image.AxesImage at 0x1bdfbc98a60>"
      ]
     },
     "execution_count": 64,
     "metadata": {},
     "output_type": "execute_result"
    },
    {
     "data": {
      "image/png": "[encoded data removed]",
      "text/plain": [
       "<Figure size 432x288 with 1 Axes>"
      ]
     },
     "metadata": {
      "needs_background": "light"
     },
     "output_type": "display_data"
    }
   ],
   "source": [
    "test_vertical_stripes_disconnected_1 = np.zeros([8,8])\n",
    "test_vertical_stripes_disconnected_1[:,1] = 1\n",
    "test_vertical_stripes_disconnected_1[:,3] = 1\n",
    "test_vertical_stripes_disconnected_1[:,5] = 1\n",
    "test_vertical_stripes_disconnected_1[:,7] = 1\n",
    "test_vertical_stripes_disconnected_1[6,0] = 1\n",
    "test_vertical_stripes_disconnected_1[1,2] = 1\n",
    "test_vertical_stripes_disconnected_1[6,2] = 1\n",
    "test_vertical_stripes_disconnected_1[1,6] = 1\n",
    "\n",
    "plt.imshow(test_vertical_stripes_disconnected_1)"
   ]
  },
  {
   "cell_type": "code",
   "execution_count": 65,
   "metadata": {},
   "outputs": [
    {
     "data": {
      "text/plain": [
       "<matplotlib.image.AxesImage at 0x1bdfbd32af0>"
      ]
     },
     "execution_count": 65,
     "metadata": {},
     "output_type": "execute_result"
    },
    {
     "data": {
      "image/png": "[encoded data removed]",
      "text/plain": [
       "<Figure size 432x288 with 1 Axes>"
      ]
     },
     "metadata": {
      "needs_background": "light"
     },
     "output_type": "display_data"
    }
   ],
   "source": [
    "test_vertical_stripes_connected_3 = np.zeros([8,8])\n",
    "test_vertical_stripes_connected_3[:,1] = 1\n",
    "test_vertical_stripes_connected_3[:,3] = 1\n",
    "test_vertical_stripes_connected_3[:,5] = 1\n",
    "test_vertical_stripes_connected_3[:,7] = 1\n",
    "test_vertical_stripes_connected_3[4,:] = 1\n",
    "\n",
    "plt.imshow(test_vertical_stripes_connected_3)"
   ]
  },
  {
   "cell_type": "code",
   "execution_count": 161,
   "metadata": {},
   "outputs": [],
   "source": [
    "test_examples = [test_all_ones,\n",
    "                 test_eye, \n",
    "                 test_inverse_eye,\n",
    "                 test_inverse_eye_connected,\n",
    "                 test_inverse_eye_connected_bottom,\n",
    "                 test_inverse_eye_connected_top,\n",
    "                 test_middle_row, test_top_row, \n",
    "                 test_bottom_row, \n",
    "                 test_vertical_column_disconnect,\n",
    "                 test_row_with_gap, \n",
    "                 test_two_rows_nearly, \n",
    "                 test_four_rows_nearly, \n",
    "                 test_dog_leg, \n",
    "                 test_dog_leg_back,\n",
    "                 test_long_path, \n",
    "                 test_longer_path, \n",
    "                 test_vertical_stripes,\n",
    "                 test_vertical_stripes_connected_1,\n",
    "                 test_vertical_stripes_connected_2,\n",
    "                 test_vertical_stripes_connected_3,\n",
    "                 test_vertical_stripes_disconnected_1]"
   ]
  },
  {
   "cell_type": "code",
   "execution_count": 162,
   "metadata": {},
   "outputs": [
    {
     "data": {
      "text/plain": [
       "[True,\n",
       " False,\n",
       " False,\n",
       " True,\n",
       " True,\n",
       " True,\n",
       " True,\n",
       " True,\n",
       " True,\n",
       " False,\n",
       " False,\n",
       " False,\n",
       " False,\n",
       " True,\n",
       " True,\n",
       " True,\n",
       " True,\n",
       " False,\n",
       " True,\n",
       " True,\n",
       " True,\n",
       " False]"
      ]
     },
     "execution_count": 162,
     "metadata": {},
     "output_type": "execute_result"
    }
   ],
   "source": [
    "[ percolate(x) for x in test_examples ]"
   ]
  },
  {
   "cell_type": "code",
   "execution_count": null,
   "metadata": {},
   "outputs": [],
   "source": []
  }
 ],
 "metadata": {
  "kernelspec": {
   "display_name": "Python 3",
   "language": "python",
   "name": "python3"
  },
  "language_info": {
   "codemirror_mode": {
    "name": "ipython",
    "version": 3
   },
   "file_extension": ".py",
   "mimetype": "text/x-python",
   "name": "python",
   "nbconvert_exporter": "python",
   "pygments_lexer": "ipython3",
   "version": "3.8.8"
  },
  "latex_envs": {
   "LaTeX_envs_menu_present": true,
   "autoclose": false,
   "autocomplete": true,
   "bibliofile": "biblio.bib",
   "cite_by": "apalike",
   "current_citInitial": 1,
   "eqLabelWithNumbers": true,
   "eqNumInitial": 1,
   "hotkeys": {
    "equation": "Ctrl-E",
    "itemize": "Ctrl-I"
   },
   "labels_anchors": false,
   "latex_user_defs": false,
   "report_style_numbering": false,
   "user_envs_cfg": false
  }
 },
 "nbformat": 4,
 "nbformat_minor": 4
}
